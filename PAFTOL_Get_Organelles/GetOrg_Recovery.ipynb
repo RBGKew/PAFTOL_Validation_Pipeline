{
 "cells": [
  {
   "cell_type": "markdown",
   "metadata": {},
   "source": [
    "# GetOrganelles Recovery"
   ]
  },
  {
   "cell_type": "code",
   "execution_count": 1,
   "metadata": {},
   "outputs": [],
   "source": [
    "import os\n",
    "import pandas as pd\n",
    "import numpy as np\n",
    "from Bio import SeqIO\n",
    "from tqdm import tqdm"
   ]
  },
  {
   "cell_type": "code",
   "execution_count": 14,
   "metadata": {},
   "outputs": [
    {
     "name": "stdout",
     "output_type": "stream",
     "text": [
      "(3182, 22)\n"
     ]
    },
    {
     "data": {
      "text/html": [
       "<div>\n",
       "<style scoped>\n",
       "    .dataframe tbody tr th:only-of-type {\n",
       "        vertical-align: middle;\n",
       "    }\n",
       "\n",
       "    .dataframe tbody tr th {\n",
       "        vertical-align: top;\n",
       "    }\n",
       "\n",
       "    .dataframe thead th {\n",
       "        text-align: right;\n",
       "    }\n",
       "</style>\n",
       "<table border=\"1\" class=\"dataframe\">\n",
       "  <thead>\n",
       "    <tr style=\"text-align: right;\">\n",
       "      <th></th>\n",
       "      <th>Sample</th>\n",
       "      <th>Source</th>\n",
       "      <th>Order</th>\n",
       "      <th>Same_Fam</th>\n",
       "      <th>Ini_Family</th>\n",
       "      <th>Ini_Genus</th>\n",
       "      <th>Ini_Species</th>\n",
       "      <th>Decision</th>\n",
       "      <th>Phylogenetic_Validation</th>\n",
       "      <th>Validation</th>\n",
       "      <th>...</th>\n",
       "      <th>Nfam_Order</th>\n",
       "      <th>Nsample_family</th>\n",
       "      <th>family</th>\n",
       "      <th>genus</th>\n",
       "      <th>species</th>\n",
       "      <th>sci_name</th>\n",
       "      <th>rank</th>\n",
       "      <th>taxonomic_status</th>\n",
       "      <th>Verdict</th>\n",
       "      <th>Comments</th>\n",
       "    </tr>\n",
       "  </thead>\n",
       "  <tbody>\n",
       "    <tr>\n",
       "      <th>0</th>\n",
       "      <td>224</td>\n",
       "      <td>PAFTOL</td>\n",
       "      <td>Saxifragales</td>\n",
       "      <td>True</td>\n",
       "      <td>Saxifragaceae</td>\n",
       "      <td>Saxifraga</td>\n",
       "      <td>fortunei</td>\n",
       "      <td>Include</td>\n",
       "      <td>Confirmed</td>\n",
       "      <td>Confirmed</td>\n",
       "      <td>...</td>\n",
       "      <td>14.0</td>\n",
       "      <td>14.0</td>\n",
       "      <td>Saxifragaceae</td>\n",
       "      <td>Saxifraga</td>\n",
       "      <td>fortunei</td>\n",
       "      <td>Saxifraga fortunei</td>\n",
       "      <td>SPECIES</td>\n",
       "      <td>Accepted</td>\n",
       "      <td>NaN</td>\n",
       "      <td>NaN</td>\n",
       "    </tr>\n",
       "    <tr>\n",
       "      <th>1</th>\n",
       "      <td>230</td>\n",
       "      <td>PAFTOL</td>\n",
       "      <td>Malpighiales</td>\n",
       "      <td>True</td>\n",
       "      <td>Lophopyxidaceae</td>\n",
       "      <td>Lophopyxis</td>\n",
       "      <td>maingayi</td>\n",
       "      <td>Include</td>\n",
       "      <td>Confirmed</td>\n",
       "      <td>Inconclusive</td>\n",
       "      <td>...</td>\n",
       "      <td>34.0</td>\n",
       "      <td>1.0</td>\n",
       "      <td>Lophopyxidaceae</td>\n",
       "      <td>Lophopyxis</td>\n",
       "      <td>maingayi</td>\n",
       "      <td>Lophopyxis maingayi</td>\n",
       "      <td>SPECIES</td>\n",
       "      <td>Accepted</td>\n",
       "      <td>NaN</td>\n",
       "      <td>[KL:Single rep of family, considered confirmed...</td>\n",
       "    </tr>\n",
       "  </tbody>\n",
       "</table>\n",
       "<p>2 rows × 22 columns</p>\n",
       "</div>"
      ],
      "text/plain": [
       "  Sample  Source         Order  Same_Fam       Ini_Family   Ini_Genus  \\\n",
       "0    224  PAFTOL  Saxifragales      True    Saxifragaceae   Saxifraga   \n",
       "1    230  PAFTOL  Malpighiales      True  Lophopyxidaceae  Lophopyxis   \n",
       "\n",
       "  Ini_Species Decision Phylogenetic_Validation    Validation  ... Nfam_Order  \\\n",
       "0    fortunei  Include               Confirmed     Confirmed  ...       14.0   \n",
       "1    maingayi  Include               Confirmed  Inconclusive  ...       34.0   \n",
       "\n",
       "   Nsample_family           family       genus   species             sci_name  \\\n",
       "0            14.0    Saxifragaceae   Saxifraga  fortunei   Saxifraga fortunei   \n",
       "1             1.0  Lophopyxidaceae  Lophopyxis  maingayi  Lophopyxis maingayi   \n",
       "\n",
       "      rank taxonomic_status Verdict  \\\n",
       "0  SPECIES         Accepted     NaN   \n",
       "1  SPECIES         Accepted     NaN   \n",
       "\n",
       "                                            Comments  \n",
       "0                                                NaN  \n",
       "1  [KL:Single rep of family, considered confirmed...  \n",
       "\n",
       "[2 rows x 22 columns]"
      ]
     },
     "execution_count": 14,
     "metadata": {},
     "output_type": "execute_result"
    }
   ],
   "source": [
    "dec_df = pd.read_excel('../../phylotree/Release_1/Pre_release_analysis_05_Tables.xlsx',\n",
    "                       sheet_name='Results_Placement_Validation')\n",
    "print(dec_df.shape)\n",
    "dec_df[:2]"
   ]
  },
  {
   "cell_type": "code",
   "execution_count": 15,
   "metadata": {},
   "outputs": [
    {
     "name": "stdout",
     "output_type": "stream",
     "text": [
      "(2443, 22)\n"
     ]
    }
   ],
   "source": [
    "paftol = dec_df[dec_df.Source=='PAFTOL']\n",
    "print(paftol.shape)"
   ]
  },
  {
   "cell_type": "code",
   "execution_count": 17,
   "metadata": {},
   "outputs": [
    {
     "name": "stderr",
     "output_type": "stream",
     "text": [
      "C:\\ProgramData\\Anaconda3\\lib\\site-packages\\ipykernel_launcher.py:3: SettingWithCopyWarning: \n",
      "A value is trying to be set on a copy of a slice from a DataFrame.\n",
      "Try using .loc[row_indexer,col_indexer] = value instead\n",
      "\n",
      "See the caveats in the documentation: https://pandas.pydata.org/pandas-docs/stable/user_guide/indexing.html#returning-a-view-versus-a-copy\n",
      "  This is separate from the ipykernel package so we can avoid doing imports until\n"
     ]
    },
    {
     "data": {
      "text/html": [
       "<div>\n",
       "<style scoped>\n",
       "    .dataframe tbody tr th:only-of-type {\n",
       "        vertical-align: middle;\n",
       "    }\n",
       "\n",
       "    .dataframe tbody tr th {\n",
       "        vertical-align: top;\n",
       "    }\n",
       "\n",
       "    .dataframe thead th {\n",
       "        text-align: right;\n",
       "    }\n",
       "</style>\n",
       "<table border=\"1\" class=\"dataframe\">\n",
       "  <thead>\n",
       "    <tr style=\"text-align: right;\">\n",
       "      <th></th>\n",
       "      <th>Sample</th>\n",
       "      <th>Order</th>\n",
       "      <th>family</th>\n",
       "      <th>genus</th>\n",
       "      <th>species</th>\n",
       "      <th>sci_name</th>\n",
       "    </tr>\n",
       "  </thead>\n",
       "  <tbody>\n",
       "    <tr>\n",
       "      <th>0</th>\n",
       "      <td>224</td>\n",
       "      <td>Saxifragales</td>\n",
       "      <td>Saxifragaceae</td>\n",
       "      <td>Saxifraga</td>\n",
       "      <td>fortunei</td>\n",
       "      <td>Saxifraga fortunei</td>\n",
       "    </tr>\n",
       "    <tr>\n",
       "      <th>1</th>\n",
       "      <td>230</td>\n",
       "      <td>Malpighiales</td>\n",
       "      <td>Lophopyxidaceae</td>\n",
       "      <td>Lophopyxis</td>\n",
       "      <td>maingayi</td>\n",
       "      <td>Lophopyxis maingayi</td>\n",
       "    </tr>\n",
       "  </tbody>\n",
       "</table>\n",
       "</div>"
      ],
      "text/plain": [
       "   Sample         Order           family       genus   species  \\\n",
       "0     224  Saxifragales    Saxifragaceae   Saxifraga  fortunei   \n",
       "1     230  Malpighiales  Lophopyxidaceae  Lophopyxis  maingayi   \n",
       "\n",
       "              sci_name  \n",
       "0   Saxifraga fortunei  \n",
       "1  Lophopyxis maingayi  "
      ]
     },
     "execution_count": 17,
     "metadata": {},
     "output_type": "execute_result"
    }
   ],
   "source": [
    "# Latest list of samples\n",
    "getorg_df = paftol[['Sample','Order', 'family', 'genus', 'species', 'sci_name']]\n",
    "getorg_df['Sample'] = getorg_df.Sample.astype(int)\n",
    "getorg_df[:2]"
   ]
  },
  {
   "cell_type": "markdown",
   "metadata": {},
   "source": [
    "## 1. Check logs"
   ]
  },
  {
   "cell_type": "code",
   "execution_count": 18,
   "metadata": {},
   "outputs": [
    {
     "name": "stdout",
     "output_type": "stream",
     "text": [
      "2443 / 2443 samples pt processed\n",
      "2443 / 2443 samples nr processed\n",
      "94 / 2443 error during plastome recovery\n",
      "7 / 2443 error during ribosomeDNA recovery\n"
     ]
    },
    {
     "name": "stderr",
     "output_type": "stream",
     "text": [
      "C:\\ProgramData\\Anaconda3\\lib\\site-packages\\ipykernel_launcher.py:11: SettingWithCopyWarning: \n",
      "A value is trying to be set on a copy of a slice from a DataFrame.\n",
      "Try using .loc[row_indexer,col_indexer] = value instead\n",
      "\n",
      "See the caveats in the documentation: https://pandas.pydata.org/pandas-docs/stable/user_guide/indexing.html#returning-a-view-versus-a-copy\n",
      "  # This is added back by InteractiveShellApp.init_path()\n",
      "C:\\ProgramData\\Anaconda3\\lib\\site-packages\\ipykernel_launcher.py:13: SettingWithCopyWarning: \n",
      "A value is trying to be set on a copy of a slice from a DataFrame.\n",
      "Try using .loc[row_indexer,col_indexer] = value instead\n",
      "\n",
      "See the caveats in the documentation: https://pandas.pydata.org/pandas-docs/stable/user_guide/indexing.html#returning-a-view-versus-a-copy\n",
      "  del sys.path[0]\n",
      "C:\\ProgramData\\Anaconda3\\lib\\site-packages\\ipykernel_launcher.py:18: SettingWithCopyWarning: \n",
      "A value is trying to be set on a copy of a slice from a DataFrame.\n",
      "Try using .loc[row_indexer,col_indexer] = value instead\n",
      "\n",
      "See the caveats in the documentation: https://pandas.pydata.org/pandas-docs/stable/user_guide/indexing.html#returning-a-view-versus-a-copy\n",
      "C:\\ProgramData\\Anaconda3\\lib\\site-packages\\ipykernel_launcher.py:19: SettingWithCopyWarning: \n",
      "A value is trying to be set on a copy of a slice from a DataFrame.\n",
      "Try using .loc[row_indexer,col_indexer] = value instead\n",
      "\n",
      "See the caveats in the documentation: https://pandas.pydata.org/pandas-docs/stable/user_guide/indexing.html#returning-a-view-versus-a-copy\n"
     ]
    }
   ],
   "source": [
    "# Check logs\n",
    "logs_df = pd.DataFrame(os.listdir('logs/'),columns=['file'])\n",
    "logs_df['Sample_Name'] = logs_df.file.str.split('log_',expand=True)[1]\n",
    "logs_df['Type'] = logs_df.Sample_Name.str.split('.',expand=True)[1]\n",
    "logs_df['Sample_Name'] = logs_df.Sample_Name.str.split('.',expand=True)[0]\n",
    "logs_df['Organelle'] = logs_df.Sample_Name.str.split('_',expand=True)[2]\n",
    "logs_df['Sample_Name'] = logs_df.Sample_Name.str.replace('_nr','').str.replace('_pt','')\n",
    "logs_df['Sample'] = logs_df.Sample_Name.str.replace('PAFTOL_','').astype(int)\n",
    "logs_df = logs_df[logs_df.Organelle.isna()==False]\n",
    "logs_df['filesize']=logs_df.file.apply(lambda x: os.stat('logs/' + x).st_size)\n",
    "getorg_df['log_pt']=getorg_df.Sample.isin(logs_df[(logs_df.Type=='log') & (logs_df.Organelle=='pt')]['Sample'])\n",
    "print(getorg_df.log_pt.sum(),'/',getorg_df.shape[0],'samples pt processed')\n",
    "getorg_df['log_nr']=getorg_df.Sample.isin(logs_df[(logs_df.Type=='log') & (logs_df.Organelle=='nr')]['Sample'])\n",
    "print(getorg_df.log_nr.sum(),'/',getorg_df.shape[0],'samples nr processed')\n",
    "# print('continuing with processed samples only')\n",
    "# getorg_df = getorg_df[getorg_df.log]\n",
    "\n",
    "getorg_df['error_pt']=pd.merge(getorg_df,logs_df[(logs_df.Type=='err') & (logs_df.Organelle=='pt')]).filesize > 0\n",
    "getorg_df['error_nr']=pd.merge(getorg_df,logs_df[(logs_df.Type=='err') & (logs_df.Organelle=='nr')]).filesize > 0\n",
    "print(getorg_df.error_pt.sum(),'/',getorg_df.shape[0],'error during plastome recovery')\n",
    "print(getorg_df.error_nr.sum(),'/',getorg_df.shape[0],'error during ribosomeDNA recovery')"
   ]
  },
  {
   "cell_type": "code",
   "execution_count": 19,
   "metadata": {},
   "outputs": [
    {
     "data": {
      "text/html": [
       "<div>\n",
       "<style scoped>\n",
       "    .dataframe tbody tr th:only-of-type {\n",
       "        vertical-align: middle;\n",
       "    }\n",
       "\n",
       "    .dataframe tbody tr th {\n",
       "        vertical-align: top;\n",
       "    }\n",
       "\n",
       "    .dataframe thead th {\n",
       "        text-align: right;\n",
       "    }\n",
       "</style>\n",
       "<table border=\"1\" class=\"dataframe\">\n",
       "  <thead>\n",
       "    <tr style=\"text-align: right;\">\n",
       "      <th></th>\n",
       "      <th>Sample</th>\n",
       "      <th>Order</th>\n",
       "      <th>family</th>\n",
       "      <th>genus</th>\n",
       "      <th>species</th>\n",
       "      <th>sci_name</th>\n",
       "      <th>log_pt</th>\n",
       "      <th>log_nr</th>\n",
       "      <th>error_pt</th>\n",
       "      <th>error_nr</th>\n",
       "      <th>Sample_Name</th>\n",
       "    </tr>\n",
       "  </thead>\n",
       "  <tbody>\n",
       "    <tr>\n",
       "      <th>0</th>\n",
       "      <td>224</td>\n",
       "      <td>Saxifragales</td>\n",
       "      <td>Saxifragaceae</td>\n",
       "      <td>Saxifraga</td>\n",
       "      <td>fortunei</td>\n",
       "      <td>Saxifraga fortunei</td>\n",
       "      <td>True</td>\n",
       "      <td>True</td>\n",
       "      <td>False</td>\n",
       "      <td>False</td>\n",
       "      <td>PAFTOL_000224</td>\n",
       "    </tr>\n",
       "    <tr>\n",
       "      <th>1</th>\n",
       "      <td>230</td>\n",
       "      <td>Malpighiales</td>\n",
       "      <td>Lophopyxidaceae</td>\n",
       "      <td>Lophopyxis</td>\n",
       "      <td>maingayi</td>\n",
       "      <td>Lophopyxis maingayi</td>\n",
       "      <td>True</td>\n",
       "      <td>True</td>\n",
       "      <td>False</td>\n",
       "      <td>False</td>\n",
       "      <td>PAFTOL_000230</td>\n",
       "    </tr>\n",
       "  </tbody>\n",
       "</table>\n",
       "</div>"
      ],
      "text/plain": [
       "   Sample         Order           family       genus   species  \\\n",
       "0     224  Saxifragales    Saxifragaceae   Saxifraga  fortunei   \n",
       "1     230  Malpighiales  Lophopyxidaceae  Lophopyxis  maingayi   \n",
       "\n",
       "              sci_name  log_pt  log_nr  error_pt  error_nr    Sample_Name  \n",
       "0   Saxifraga fortunei    True    True     False     False  PAFTOL_000224  \n",
       "1  Lophopyxis maingayi    True    True     False     False  PAFTOL_000230  "
      ]
     },
     "execution_count": 19,
     "metadata": {},
     "output_type": "execute_result"
    }
   ],
   "source": [
    "getorg_df = pd.merge(getorg_df,logs_df[['Sample_Name','Sample']].drop_duplicates())\n",
    "getorg_df[:2]"
   ]
  },
  {
   "cell_type": "markdown",
   "metadata": {},
   "source": [
    "## 2. Recovery stats"
   ]
  },
  {
   "cell_type": "code",
   "execution_count": 20,
   "metadata": {},
   "outputs": [
    {
     "name": "stderr",
     "output_type": "stream",
     "text": [
      "100%|█████████████████████████████████████████████████████████████████████████████| 2443/2443 [00:07<00:00, 341.81it/s]\n",
      "100%|█████████████████████████████████████████████████████████████████████████████| 2443/2443 [00:04<00:00, 552.75it/s]\n"
     ]
    }
   ],
   "source": [
    "import os.path\n",
    "\n",
    "for idx, row in tqdm(getorg_df.iterrows(), total=getorg_df.shape[0]):\n",
    "    path_fasta='fasta_pt/' + row.Sample_Name + '_pt.fasta'\n",
    "    if os.path.isfile(path_fasta) :\n",
    "        records = list(SeqIO.parse(path_fasta, 'fasta'))\n",
    "        sumcontlen=0\n",
    "        for record in records:\n",
    "            sumcontlen = sumcontlen + len(record.seq)\n",
    "        \n",
    "        getorg_df.loc[idx,'Nseq_pt']=len(records)\n",
    "        getorg_df.loc[idx,'len_pt']=sumcontlen\n",
    "        \n",
    "for idx, row in tqdm(getorg_df.iterrows(), total=getorg_df.shape[0]):\n",
    "    path_fasta='fasta_nr/' + row.Sample_Name + '_nr.fasta'\n",
    "    if os.path.isfile(path_fasta) :\n",
    "        records = list(SeqIO.parse(path_fasta, 'fasta'))\n",
    "        sumcontlen=0\n",
    "        for record in records:\n",
    "            sumcontlen = sumcontlen + len(record.seq)\n",
    "        \n",
    "        getorg_df.loc[idx,'Nseq_nr']=len(records)\n",
    "        getorg_df.loc[idx,'len_nr']=sumcontlen"
   ]
  },
  {
   "cell_type": "code",
   "execution_count": 22,
   "metadata": {},
   "outputs": [],
   "source": [
    "getorg_df.to_csv('getorg_dec_df.csv',index=False)"
   ]
  },
  {
   "cell_type": "code",
   "execution_count": 23,
   "metadata": {},
   "outputs": [],
   "source": [
    "getorg_df = pd.read_csv('getorg_dec_df.csv')"
   ]
  },
  {
   "cell_type": "code",
   "execution_count": 24,
   "metadata": {},
   "outputs": [
    {
     "data": {
      "text/html": [
       "<div>\n",
       "<style scoped>\n",
       "    .dataframe tbody tr th:only-of-type {\n",
       "        vertical-align: middle;\n",
       "    }\n",
       "\n",
       "    .dataframe tbody tr th {\n",
       "        vertical-align: top;\n",
       "    }\n",
       "\n",
       "    .dataframe thead th {\n",
       "        text-align: right;\n",
       "    }\n",
       "</style>\n",
       "<table border=\"1\" class=\"dataframe\">\n",
       "  <thead>\n",
       "    <tr style=\"text-align: right;\">\n",
       "      <th></th>\n",
       "      <th>Sample</th>\n",
       "      <th>Order</th>\n",
       "      <th>family</th>\n",
       "      <th>genus</th>\n",
       "      <th>species</th>\n",
       "      <th>sci_name</th>\n",
       "      <th>log_pt</th>\n",
       "      <th>log_nr</th>\n",
       "      <th>error_pt</th>\n",
       "      <th>error_nr</th>\n",
       "      <th>Sample_Name</th>\n",
       "      <th>Nseq_pt</th>\n",
       "      <th>len_pt</th>\n",
       "      <th>Nseq_nr</th>\n",
       "      <th>len_nr</th>\n",
       "    </tr>\n",
       "  </thead>\n",
       "  <tbody>\n",
       "    <tr>\n",
       "      <th>0</th>\n",
       "      <td>224</td>\n",
       "      <td>Saxifragales</td>\n",
       "      <td>Saxifragaceae</td>\n",
       "      <td>Saxifraga</td>\n",
       "      <td>fortunei</td>\n",
       "      <td>Saxifraga fortunei</td>\n",
       "      <td>True</td>\n",
       "      <td>True</td>\n",
       "      <td>False</td>\n",
       "      <td>False</td>\n",
       "      <td>PAFTOL_000224</td>\n",
       "      <td>36.0</td>\n",
       "      <td>51751.0</td>\n",
       "      <td>3.0</td>\n",
       "      <td>4750.0</td>\n",
       "    </tr>\n",
       "    <tr>\n",
       "      <th>1</th>\n",
       "      <td>230</td>\n",
       "      <td>Malpighiales</td>\n",
       "      <td>Lophopyxidaceae</td>\n",
       "      <td>Lophopyxis</td>\n",
       "      <td>maingayi</td>\n",
       "      <td>Lophopyxis maingayi</td>\n",
       "      <td>True</td>\n",
       "      <td>True</td>\n",
       "      <td>False</td>\n",
       "      <td>False</td>\n",
       "      <td>PAFTOL_000230</td>\n",
       "      <td>34.0</td>\n",
       "      <td>35185.0</td>\n",
       "      <td>3.0</td>\n",
       "      <td>6384.0</td>\n",
       "    </tr>\n",
       "    <tr>\n",
       "      <th>2</th>\n",
       "      <td>234</td>\n",
       "      <td>Saxifragales</td>\n",
       "      <td>Saxifragaceae</td>\n",
       "      <td>Saxifraga</td>\n",
       "      <td>maderensis</td>\n",
       "      <td>Saxifraga maderensis</td>\n",
       "      <td>True</td>\n",
       "      <td>True</td>\n",
       "      <td>False</td>\n",
       "      <td>False</td>\n",
       "      <td>PAFTOL_000234</td>\n",
       "      <td>23.0</td>\n",
       "      <td>13988.0</td>\n",
       "      <td>1.0</td>\n",
       "      <td>3752.0</td>\n",
       "    </tr>\n",
       "    <tr>\n",
       "      <th>3</th>\n",
       "      <td>235</td>\n",
       "      <td>Fabales</td>\n",
       "      <td>Fabaceae</td>\n",
       "      <td>Berlinia</td>\n",
       "      <td>bracteosa</td>\n",
       "      <td>Berlinia bracteosa</td>\n",
       "      <td>True</td>\n",
       "      <td>True</td>\n",
       "      <td>False</td>\n",
       "      <td>False</td>\n",
       "      <td>PAFTOL_000235</td>\n",
       "      <td>6.0</td>\n",
       "      <td>2870.0</td>\n",
       "      <td>2.0</td>\n",
       "      <td>1867.0</td>\n",
       "    </tr>\n",
       "    <tr>\n",
       "      <th>4</th>\n",
       "      <td>237</td>\n",
       "      <td>Saxifragales</td>\n",
       "      <td>Saxifragaceae</td>\n",
       "      <td>Saxifraga</td>\n",
       "      <td>biflora</td>\n",
       "      <td>Saxifraga biflora</td>\n",
       "      <td>True</td>\n",
       "      <td>True</td>\n",
       "      <td>False</td>\n",
       "      <td>False</td>\n",
       "      <td>PAFTOL_000237</td>\n",
       "      <td>15.0</td>\n",
       "      <td>11222.0</td>\n",
       "      <td>1.0</td>\n",
       "      <td>1948.0</td>\n",
       "    </tr>\n",
       "    <tr>\n",
       "      <th>...</th>\n",
       "      <td>...</td>\n",
       "      <td>...</td>\n",
       "      <td>...</td>\n",
       "      <td>...</td>\n",
       "      <td>...</td>\n",
       "      <td>...</td>\n",
       "      <td>...</td>\n",
       "      <td>...</td>\n",
       "      <td>...</td>\n",
       "      <td>...</td>\n",
       "      <td>...</td>\n",
       "      <td>...</td>\n",
       "      <td>...</td>\n",
       "      <td>...</td>\n",
       "      <td>...</td>\n",
       "    </tr>\n",
       "    <tr>\n",
       "      <th>2438</th>\n",
       "      <td>14727</td>\n",
       "      <td>Fabales</td>\n",
       "      <td>Fabaceae</td>\n",
       "      <td>Stemonocoleus</td>\n",
       "      <td>micranthus</td>\n",
       "      <td>Stemonocoleus micranthus</td>\n",
       "      <td>True</td>\n",
       "      <td>True</td>\n",
       "      <td>False</td>\n",
       "      <td>False</td>\n",
       "      <td>PAFTOL_014727</td>\n",
       "      <td>11.0</td>\n",
       "      <td>23597.0</td>\n",
       "      <td>2.0</td>\n",
       "      <td>6002.0</td>\n",
       "    </tr>\n",
       "    <tr>\n",
       "      <th>2439</th>\n",
       "      <td>14729</td>\n",
       "      <td>Fabales</td>\n",
       "      <td>Fabaceae</td>\n",
       "      <td>Talbotiella</td>\n",
       "      <td>velutina</td>\n",
       "      <td>Talbotiella velutina</td>\n",
       "      <td>True</td>\n",
       "      <td>True</td>\n",
       "      <td>False</td>\n",
       "      <td>False</td>\n",
       "      <td>PAFTOL_014729</td>\n",
       "      <td>7.0</td>\n",
       "      <td>4737.0</td>\n",
       "      <td>1.0</td>\n",
       "      <td>6462.0</td>\n",
       "    </tr>\n",
       "    <tr>\n",
       "      <th>2440</th>\n",
       "      <td>14731</td>\n",
       "      <td>Fabales</td>\n",
       "      <td>Fabaceae</td>\n",
       "      <td>Tessmannia</td>\n",
       "      <td>anomala</td>\n",
       "      <td>Tessmannia anomala</td>\n",
       "      <td>True</td>\n",
       "      <td>True</td>\n",
       "      <td>False</td>\n",
       "      <td>False</td>\n",
       "      <td>PAFTOL_014731</td>\n",
       "      <td>10.0</td>\n",
       "      <td>7753.0</td>\n",
       "      <td>2.0</td>\n",
       "      <td>5441.0</td>\n",
       "    </tr>\n",
       "    <tr>\n",
       "      <th>2441</th>\n",
       "      <td>14733</td>\n",
       "      <td>Fabales</td>\n",
       "      <td>Fabaceae</td>\n",
       "      <td>Tetraberlinia</td>\n",
       "      <td>korupensis</td>\n",
       "      <td>Tetraberlinia korupensis</td>\n",
       "      <td>True</td>\n",
       "      <td>True</td>\n",
       "      <td>False</td>\n",
       "      <td>False</td>\n",
       "      <td>PAFTOL_014733</td>\n",
       "      <td>15.0</td>\n",
       "      <td>13158.0</td>\n",
       "      <td>1.0</td>\n",
       "      <td>5976.0</td>\n",
       "    </tr>\n",
       "    <tr>\n",
       "      <th>2442</th>\n",
       "      <td>14735</td>\n",
       "      <td>Fabales</td>\n",
       "      <td>Fabaceae</td>\n",
       "      <td>Zenkerella</td>\n",
       "      <td>citrina</td>\n",
       "      <td>Zenkerella citrina</td>\n",
       "      <td>True</td>\n",
       "      <td>True</td>\n",
       "      <td>False</td>\n",
       "      <td>False</td>\n",
       "      <td>PAFTOL_014735</td>\n",
       "      <td>15.0</td>\n",
       "      <td>8712.0</td>\n",
       "      <td>1.0</td>\n",
       "      <td>8712.0</td>\n",
       "    </tr>\n",
       "  </tbody>\n",
       "</table>\n",
       "<p>2443 rows × 15 columns</p>\n",
       "</div>"
      ],
      "text/plain": [
       "      Sample         Order           family          genus     species  \\\n",
       "0        224  Saxifragales    Saxifragaceae      Saxifraga    fortunei   \n",
       "1        230  Malpighiales  Lophopyxidaceae     Lophopyxis    maingayi   \n",
       "2        234  Saxifragales    Saxifragaceae      Saxifraga  maderensis   \n",
       "3        235       Fabales         Fabaceae       Berlinia   bracteosa   \n",
       "4        237  Saxifragales    Saxifragaceae      Saxifraga     biflora   \n",
       "...      ...           ...              ...            ...         ...   \n",
       "2438   14727       Fabales         Fabaceae  Stemonocoleus  micranthus   \n",
       "2439   14729       Fabales         Fabaceae    Talbotiella    velutina   \n",
       "2440   14731       Fabales         Fabaceae     Tessmannia     anomala   \n",
       "2441   14733       Fabales         Fabaceae  Tetraberlinia  korupensis   \n",
       "2442   14735       Fabales         Fabaceae     Zenkerella     citrina   \n",
       "\n",
       "                      sci_name  log_pt  log_nr  error_pt  error_nr  \\\n",
       "0           Saxifraga fortunei    True    True     False     False   \n",
       "1          Lophopyxis maingayi    True    True     False     False   \n",
       "2         Saxifraga maderensis    True    True     False     False   \n",
       "3           Berlinia bracteosa    True    True     False     False   \n",
       "4            Saxifraga biflora    True    True     False     False   \n",
       "...                        ...     ...     ...       ...       ...   \n",
       "2438  Stemonocoleus micranthus    True    True     False     False   \n",
       "2439      Talbotiella velutina    True    True     False     False   \n",
       "2440        Tessmannia anomala    True    True     False     False   \n",
       "2441  Tetraberlinia korupensis    True    True     False     False   \n",
       "2442        Zenkerella citrina    True    True     False     False   \n",
       "\n",
       "        Sample_Name  Nseq_pt   len_pt  Nseq_nr  len_nr  \n",
       "0     PAFTOL_000224     36.0  51751.0      3.0  4750.0  \n",
       "1     PAFTOL_000230     34.0  35185.0      3.0  6384.0  \n",
       "2     PAFTOL_000234     23.0  13988.0      1.0  3752.0  \n",
       "3     PAFTOL_000235      6.0   2870.0      2.0  1867.0  \n",
       "4     PAFTOL_000237     15.0  11222.0      1.0  1948.0  \n",
       "...             ...      ...      ...      ...     ...  \n",
       "2438  PAFTOL_014727     11.0  23597.0      2.0  6002.0  \n",
       "2439  PAFTOL_014729      7.0   4737.0      1.0  6462.0  \n",
       "2440  PAFTOL_014731     10.0   7753.0      2.0  5441.0  \n",
       "2441  PAFTOL_014733     15.0  13158.0      1.0  5976.0  \n",
       "2442  PAFTOL_014735     15.0   8712.0      1.0  8712.0  \n",
       "\n",
       "[2443 rows x 15 columns]"
      ]
     },
     "execution_count": 24,
     "metadata": {},
     "output_type": "execute_result"
    }
   ],
   "source": [
    "getorg_df"
   ]
  },
  {
   "cell_type": "code",
   "execution_count": 40,
   "metadata": {},
   "outputs": [
    {
     "name": "stdout",
     "output_type": "stream",
     "text": [
      "2349 / 2443\n",
      "2394 / 2443\n"
     ]
    }
   ],
   "source": [
    "print(getorg_df.Nseq_nr.notnull().sum(),'/',getorg_df.shape[0])\n",
    "print(getorg_df.Nseq_pt.notnull().sum(),'/',getorg_df.shape[0])"
   ]
  },
  {
   "cell_type": "code",
   "execution_count": 42,
   "metadata": {},
   "outputs": [
    {
     "name": "stdout",
     "output_type": "stream",
     "text": [
      "Nseq_nr\n",
      "1.0    1392\n",
      "2.0     724\n",
      "3.0     223\n",
      "4.0      10\n",
      "dtype: int64\n",
      "0.1    2475.8\n",
      "0.5    6789.0\n",
      "0.9    9371.2\n",
      "Name: len_nr, dtype: float64\n",
      "0.1    5296.2\n",
      "0.5    7580.5\n",
      "0.9    9823.1\n",
      "Name: len_nr, dtype: float64\n"
     ]
    },
    {
     "data": {
      "text/plain": [
       "<matplotlib.axes._subplots.AxesSubplot at 0x294013a7c88>"
      ]
     },
     "execution_count": 42,
     "metadata": {},
     "output_type": "execute_result"
    },
    {
     "data": {
      "image/png": "[encoded data removed]",
      "text/plain": [
       "<Figure size 432x288 with 1 Axes>"
      ]
     },
     "metadata": {
      "needs_background": "light"
     },
     "output_type": "display_data"
    }
   ],
   "source": [
    "print(getorg_df.groupby('Nseq_nr').size())\n",
    "print(getorg_df.len_nr.quantile([.1, .5, .9]))\n",
    "print(getorg_df[getorg_df.Nseq_nr==1].len_nr.quantile([.1, .5, .9]))\n",
    "getorg_df.len_nr.hist(bins=50)"
   ]
  },
  {
   "cell_type": "code",
   "execution_count": 26,
   "metadata": {},
   "outputs": [
    {
     "data": {
      "text/plain": [
       "<matplotlib.axes._subplots.AxesSubplot at 0x2947fbaec48>"
      ]
     },
     "execution_count": 26,
     "metadata": {},
     "output_type": "execute_result"
    },
    {
     "data": {
      "image/png": "[encoded data removed]",
      "text/plain": [
       "<Figure size 432x288 with 1 Axes>"
      ]
     },
     "metadata": {
      "needs_background": "light"
     },
     "output_type": "display_data"
    }
   ],
   "source": [
    "getorg_df[getorg_df.Nseq_nr==1].len_nr.hist(bins=50)"
   ]
  },
  {
   "cell_type": "code",
   "execution_count": 43,
   "metadata": {},
   "outputs": [
    {
     "name": "stdout",
     "output_type": "stream",
     "text": [
      "0.1      4972.5\n",
      "0.2     10628.8\n",
      "0.5     32284.5\n",
      "0.9    133404.4\n",
      "Name: len_pt, dtype: float64\n"
     ]
    },
    {
     "data": {
      "image/png": "[encoded data removed]",
      "text/plain": [
       "<Figure size 432x288 with 1 Axes>"
      ]
     },
     "metadata": {
      "needs_background": "light"
     },
     "output_type": "display_data"
    }
   ],
   "source": [
    "print(getorg_df.len_pt.quantile([.1, .2, .5, .9]))\n",
    "# print(getorg_df[getorg_df.Nseq_pt==1].len_pt.quantile([.1, .5, .9]))\n",
    "ax1 = getorg_df.plot.scatter(x='len_pt',y='Nseq_pt',c='black')"
   ]
  },
  {
   "cell_type": "code",
   "execution_count": 37,
   "metadata": {},
   "outputs": [
    {
     "name": "stdout",
     "output_type": "stream",
     "text": [
      "0.1       718.0\n",
      "0.2      2004.0\n",
      "0.5    155659.5\n",
      "0.9    162688.5\n",
      "Name: len_pt, dtype: float64\n",
      "117 whole plastomes\n"
     ]
    },
    {
     "data": {
      "text/plain": [
       "<matplotlib.axes._subplots.AxesSubplot at 0x2947cd34b48>"
      ]
     },
     "execution_count": 37,
     "metadata": {},
     "output_type": "execute_result"
    },
    {
     "data": {
      "image/png": "[encoded data removed]",
      "text/plain": [
       "<Figure size 432x288 with 1 Axes>"
      ]
     },
     "metadata": {
      "needs_background": "light"
     },
     "output_type": "display_data"
    }
   ],
   "source": [
    "print(getorg_df[getorg_df.Nseq_pt==1].len_pt.quantile([.1, .2, .5, .9]))\n",
    "print(sum(getorg_df[getorg_df.Nseq_pt==1].len_pt>120000), 'whole plastomes')\n",
    "getorg_df[getorg_df.Nseq_pt==1].len_pt.hist(bins=50)"
   ]
  },
  {
   "cell_type": "code",
   "execution_count": 28,
   "metadata": {},
   "outputs": [
    {
     "data": {
      "text/plain": [
       "Sample          0\n",
       "Order           3\n",
       "family         75\n",
       "genus          75\n",
       "species        75\n",
       "sci_name       75\n",
       "log_pt          0\n",
       "log_nr          0\n",
       "error_pt        0\n",
       "error_nr        0\n",
       "Sample_Name     0\n",
       "Nseq_pt        49\n",
       "len_pt         49\n",
       "Nseq_nr        94\n",
       "len_nr         94\n",
       "dtype: int64"
      ]
     },
     "execution_count": 28,
     "metadata": {},
     "output_type": "execute_result"
    }
   ],
   "source": [
    "getorg_df.isna().sum()"
   ]
  }
 ],
 "metadata": {
  "kernelspec": {
   "display_name": "Python 3",
   "language": "python",
   "name": "python3"
  },
  "language_info": {
   "codemirror_mode": {
    "name": "ipython",
    "version": 3
   },
   "file_extension": ".py",
   "mimetype": "text/x-python",
   "name": "python",
   "nbconvert_exporter": "python",
   "pygments_lexer": "ipython3",
   "version": "3.7.6"
  }
 },
 "nbformat": 4,
 "nbformat_minor": 4
}
