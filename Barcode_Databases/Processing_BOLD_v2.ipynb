{
 "cells": [
  {
   "cell_type": "code",
   "execution_count": 1,
   "metadata": {},
   "outputs": [
    {
     "name": "stdout",
     "output_type": "stream",
     "text": [
      "Loading dependencies...Successful\n"
     ]
    }
   ],
   "source": [
    "print ('Loading dependencies...', end = '')\n",
    "try:\n",
    "    import pandas as pd\n",
    "    from tqdm import tqdm\n",
    "    import numpy as np\n",
    "    import os\n",
    "    from Bio import SeqIO\n",
    "    from Bio.SeqRecord import SeqRecord\n",
    "    import sys\n",
    "    from ete3 import NCBITaxa\n",
    "    ncbi = NCBITaxa()\n",
    "    print('Successful')\n",
    "except:\n",
    "    print('MISSING DEPENDENCIES!')"
   ]
  },
  {
   "cell_type": "code",
   "execution_count": 2,
   "metadata": {},
   "outputs": [
    {
     "name": "stderr",
     "output_type": "stream",
     "text": [
      "C:\\ProgramData\\Anaconda3\\lib\\site-packages\\IPython\\core\\interactiveshell.py:3063: DtypeWarning: Columns (41) have mixed types.Specify dtype option on import or set low_memory=False.\n",
      "  interactivity=interactivity, compiler=compiler, result=result)\n"
     ]
    },
    {
     "name": "stdout",
     "output_type": "stream",
     "text": [
      "(361039, 46)\n",
      "Index(['processid', 'sampleid', 'recordID', 'catalognum', 'fieldnum',\n",
      "       'institution_storing', 'bin_uri', 'phylum_taxID', 'phylum_name',\n",
      "       'class_taxID', 'class_name', 'order_taxID', 'order_name',\n",
      "       'family_taxID', 'family', 'subfamily_taxID', 'subfamily_name',\n",
      "       'genus_taxID', 'genus', 'species_taxID', 'species', 'subspecies_taxID',\n",
      "       'subspecies_name', 'identification_provided_by', 'voucher_type',\n",
      "       'tissue_type', 'collectors', 'collectiondate', 'lifestage', 'sex',\n",
      "       'reproduction', 'extrainfo', 'notes', 'lat', 'lon', 'coord_source',\n",
      "       'coord_accuracy', 'country', 'province', 'region', 'exactsite',\n",
      "       'sequenceID', 'markercode', 'genbank_accession', 'nucleotides',\n",
      "       'Unnamed: 45'],\n",
      "      dtype='object')\n"
     ]
    },
    {
     "data": {
      "text/html": [
       "<div>\n",
       "<style scoped>\n",
       "    .dataframe tbody tr th:only-of-type {\n",
       "        vertical-align: middle;\n",
       "    }\n",
       "\n",
       "    .dataframe tbody tr th {\n",
       "        vertical-align: top;\n",
       "    }\n",
       "\n",
       "    .dataframe thead th {\n",
       "        text-align: right;\n",
       "    }\n",
       "</style>\n",
       "<table border=\"1\" class=\"dataframe\">\n",
       "  <thead>\n",
       "    <tr style=\"text-align: right;\">\n",
       "      <th></th>\n",
       "      <th>processid</th>\n",
       "      <th>sampleid</th>\n",
       "      <th>recordID</th>\n",
       "      <th>catalognum</th>\n",
       "      <th>fieldnum</th>\n",
       "      <th>institution_storing</th>\n",
       "      <th>bin_uri</th>\n",
       "      <th>phylum_taxID</th>\n",
       "      <th>phylum_name</th>\n",
       "      <th>class_taxID</th>\n",
       "      <th>...</th>\n",
       "      <th>coord_accuracy</th>\n",
       "      <th>country</th>\n",
       "      <th>province</th>\n",
       "      <th>region</th>\n",
       "      <th>exactsite</th>\n",
       "      <th>sequenceID</th>\n",
       "      <th>markercode</th>\n",
       "      <th>genbank_accession</th>\n",
       "      <th>nucleotides</th>\n",
       "      <th>Unnamed: 45</th>\n",
       "    </tr>\n",
       "  </thead>\n",
       "  <tbody>\n",
       "    <tr>\n",
       "      <th>0</th>\n",
       "      <td>ALM011-11</td>\n",
       "      <td>BC-2011-36011</td>\n",
       "      <td>2096783</td>\n",
       "      <td></td>\n",
       "      <td>1339-2005-A</td>\n",
       "      <td>Universite de Montreal, L'Herbier Marie-Victorin</td>\n",
       "      <td></td>\n",
       "      <td>12</td>\n",
       "      <td>Magnoliophyta</td>\n",
       "      <td>41</td>\n",
       "      <td>...</td>\n",
       "      <td></td>\n",
       "      <td>Canada</td>\n",
       "      <td>Quebec</td>\n",
       "      <td></td>\n",
       "      <td></td>\n",
       "      <td>4168811</td>\n",
       "      <td>rbcLa</td>\n",
       "      <td></td>\n",
       "      <td>GGTGTTGGATTCAAGGCTGGTGTTAAAGATTATAAATTGACTTATT...</td>\n",
       "      <td>NaN</td>\n",
       "    </tr>\n",
       "    <tr>\n",
       "      <th>1</th>\n",
       "      <td>ALM011-11</td>\n",
       "      <td>BC-2011-36011</td>\n",
       "      <td>2096783</td>\n",
       "      <td></td>\n",
       "      <td>1339-2005-A</td>\n",
       "      <td>Universite de Montreal, L'Herbier Marie-Victorin</td>\n",
       "      <td></td>\n",
       "      <td>12</td>\n",
       "      <td>Magnoliophyta</td>\n",
       "      <td>41</td>\n",
       "      <td>...</td>\n",
       "      <td></td>\n",
       "      <td>Canada</td>\n",
       "      <td>Quebec</td>\n",
       "      <td></td>\n",
       "      <td></td>\n",
       "      <td>4179363</td>\n",
       "      <td>matK</td>\n",
       "      <td></td>\n",
       "      <td>---------------ATCCTTCGCTATTGGGTGAAAGATCCCTCCT...</td>\n",
       "      <td>NaN</td>\n",
       "    </tr>\n",
       "  </tbody>\n",
       "</table>\n",
       "<p>2 rows × 46 columns</p>\n",
       "</div>"
      ],
      "text/plain": [
       "   processid       sampleid  recordID catalognum     fieldnum  \\\n",
       "0  ALM011-11  BC-2011-36011   2096783             1339-2005-A   \n",
       "1  ALM011-11  BC-2011-36011   2096783             1339-2005-A   \n",
       "\n",
       "                                institution_storing bin_uri  phylum_taxID  \\\n",
       "0  Universite de Montreal, L'Herbier Marie-Victorin                    12   \n",
       "1  Universite de Montreal, L'Herbier Marie-Victorin                    12   \n",
       "\n",
       "     phylum_name class_taxID  ... coord_accuracy country province region  \\\n",
       "0  Magnoliophyta          41  ...                 Canada   Quebec          \n",
       "1  Magnoliophyta          41  ...                 Canada   Quebec          \n",
       "\n",
       "  exactsite sequenceID markercode genbank_accession  \\\n",
       "0              4168811      rbcLa                     \n",
       "1              4179363       matK                     \n",
       "\n",
       "                                         nucleotides Unnamed: 45  \n",
       "0  GGTGTTGGATTCAAGGCTGGTGTTAAAGATTATAAATTGACTTATT...         NaN  \n",
       "1  ---------------ATCCTTCGCTATTGGGTGAAAGATCCCTCCT...         NaN  \n",
       "\n",
       "[2 rows x 46 columns]"
      ]
     },
     "execution_count": 2,
     "metadata": {},
     "output_type": "execute_result"
    }
   ],
   "source": [
    "desired_ranks=['species','genus','family']\n",
    "#Sourcing from BOLD https://v3.boldsystems.org/index.php/Public_SearchTerms?query=Magnoliophyta[tax] \n",
    "df=pd.read_table('bold_data.txt',encoding = \"latin\").rename(columns={'species_name':'species',\n",
    "                'genus_name':'genus','family_name':'family'})\n",
    "print(df.shape)\n",
    "print(df.columns)\n",
    "df[:2]"
   ]
  },
  {
   "cell_type": "code",
   "execution_count": 3,
   "metadata": {},
   "outputs": [
    {
     "data": {
      "text/html": [
       "<div>\n",
       "<style scoped>\n",
       "    .dataframe tbody tr th:only-of-type {\n",
       "        vertical-align: middle;\n",
       "    }\n",
       "\n",
       "    .dataframe tbody tr th {\n",
       "        vertical-align: top;\n",
       "    }\n",
       "\n",
       "    .dataframe thead th {\n",
       "        text-align: right;\n",
       "    }\n",
       "</style>\n",
       "<table border=\"1\" class=\"dataframe\">\n",
       "  <thead>\n",
       "    <tr style=\"text-align: right;\">\n",
       "      <th></th>\n",
       "      <th>processid</th>\n",
       "      <th>sampleid</th>\n",
       "      <th>recordID</th>\n",
       "      <th>species</th>\n",
       "      <th>genus</th>\n",
       "      <th>family</th>\n",
       "      <th>sequenceID</th>\n",
       "      <th>markercode</th>\n",
       "      <th>nucleotides</th>\n",
       "    </tr>\n",
       "  </thead>\n",
       "  <tbody>\n",
       "    <tr>\n",
       "      <th>0</th>\n",
       "      <td>ALM011-11</td>\n",
       "      <td>BC-2011-36011</td>\n",
       "      <td>2096783</td>\n",
       "      <td></td>\n",
       "      <td></td>\n",
       "      <td></td>\n",
       "      <td>4168811</td>\n",
       "      <td>rbcLa</td>\n",
       "      <td>GGTGTTGGATTCAAGGCTGGTGTTAAAGATTATAAATTGACTTATT...</td>\n",
       "    </tr>\n",
       "    <tr>\n",
       "      <th>1</th>\n",
       "      <td>ALM011-11</td>\n",
       "      <td>BC-2011-36011</td>\n",
       "      <td>2096783</td>\n",
       "      <td></td>\n",
       "      <td></td>\n",
       "      <td></td>\n",
       "      <td>4179363</td>\n",
       "      <td>matK</td>\n",
       "      <td>---------------ATCCTTCGCTATTGGGTGAAAGATCCCTCCT...</td>\n",
       "    </tr>\n",
       "  </tbody>\n",
       "</table>\n",
       "</div>"
      ],
      "text/plain": [
       "   processid       sampleid  recordID species genus family sequenceID  \\\n",
       "0  ALM011-11  BC-2011-36011   2096783                         4168811   \n",
       "1  ALM011-11  BC-2011-36011   2096783                         4179363   \n",
       "\n",
       "  markercode                                        nucleotides  \n",
       "0      rbcLa  GGTGTTGGATTCAAGGCTGGTGTTAAAGATTATAAATTGACTTATT...  \n",
       "1       matK  ---------------ATCCTTCGCTATTGGGTGAAAGATCCCTCCT...  "
      ]
     },
     "execution_count": 3,
     "metadata": {},
     "output_type": "execute_result"
    }
   ],
   "source": [
    "df = df [['processid', 'sampleid', 'recordID', 'species', 'genus', 'family','sequenceID', \n",
    "           'markercode', 'nucleotides']]\n",
    "df[:2]"
   ]
  },
  {
   "cell_type": "code",
   "execution_count": 4,
   "metadata": {},
   "outputs": [
    {
     "name": "stdout",
     "output_type": "stream",
     "text": [
      "(361039, 9)\n",
      "(306966, 9)\n",
      "(306966, 9)\n",
      "(298701, 9)\n"
     ]
    }
   ],
   "source": [
    "# Remove samples without species name\n",
    "print(df.shape)\n",
    "df = df[~df.species.isna()]\n",
    "df = df[~ (df.species == ' ')]\n",
    "print(df.shape)\n",
    "# Remove samples without sequence\n",
    "print(df.shape)\n",
    "df = df[~df.nucleotides.isna()]\n",
    "df = df[~ (df.nucleotides == ' ')]\n",
    "print(df.shape)"
   ]
  },
  {
   "cell_type": "code",
   "execution_count": 5,
   "metadata": {},
   "outputs": [
    {
     "data": {
      "text/plain": [
       "markercode\n",
       "matK           92297\n",
       "ITS2           90243\n",
       "rbcL           56559\n",
       "rbcLa          39397\n",
       "trnH-psbA       7949\n",
       "ITS             3184\n",
       "trnL-F          2236\n",
       "ITS1            1636\n",
       "rpoC1           1196\n",
       "atpF-atpH       1120\n",
       "rpoB             815\n",
       "psbK-psbI        731\n",
       "COI-5P           694\n",
       "ycf1             137\n",
       "atpB-rbcL         94\n",
       "trnK              72\n",
       "matR              61\n",
       "petD-intron       48\n",
       "matK-trnK         48\n",
       "COXIII            47\n",
       "atp6              46\n",
       "COII              46\n",
       "matK-like         26\n",
       "rbcL-like         19\n",
       "dtype: int64"
      ]
     },
     "execution_count": 5,
     "metadata": {},
     "output_type": "execute_result"
    }
   ],
   "source": [
    "df.groupby('markercode').size().sort_values(ascending=False)"
   ]
  },
  {
   "cell_type": "code",
   "execution_count": 6,
   "metadata": {},
   "outputs": [
    {
     "data": {
      "text/plain": [
       "markercode\n",
       "matK     92297\n",
       "ITS2     90243\n",
       "rbcL     56559\n",
       "rbcLa    39397\n",
       "dtype: int64"
      ]
     },
     "execution_count": 6,
     "metadata": {},
     "output_type": "execute_result"
    }
   ],
   "source": [
    "df.groupby('markercode').size().sort_values(ascending=False)[:4]"
   ]
  },
  {
   "cell_type": "code",
   "execution_count": 7,
   "metadata": {},
   "outputs": [],
   "source": [
    "markers=['matK', 'rbcL','rbcLa']"
   ]
  },
  {
   "cell_type": "code",
   "execution_count": 9,
   "metadata": {},
   "outputs": [
    {
     "name": "stdout",
     "output_type": "stream",
     "text": [
      "(188253, 10)\n"
     ]
    },
    {
     "name": "stderr",
     "output_type": "stream",
     "text": [
      "C:\\ProgramData\\Anaconda3\\lib\\site-packages\\ipykernel_launcher.py:2: SettingWithCopyWarning: \n",
      "A value is trying to be set on a copy of a slice from a DataFrame.\n",
      "Try using .loc[row_indexer,col_indexer] = value instead\n",
      "\n",
      "See the caveats in the documentation: https://pandas.pydata.org/pandas-docs/stable/user_guide/indexing.html#returning-a-view-versus-a-copy\n",
      "  \n"
     ]
    },
    {
     "data": {
      "text/html": [
       "<div>\n",
       "<style scoped>\n",
       "    .dataframe tbody tr th:only-of-type {\n",
       "        vertical-align: middle;\n",
       "    }\n",
       "\n",
       "    .dataframe tbody tr th {\n",
       "        vertical-align: top;\n",
       "    }\n",
       "\n",
       "    .dataframe thead th {\n",
       "        text-align: right;\n",
       "    }\n",
       "</style>\n",
       "<table border=\"1\" class=\"dataframe\">\n",
       "  <thead>\n",
       "    <tr style=\"text-align: right;\">\n",
       "      <th></th>\n",
       "      <th>processid</th>\n",
       "      <th>sampleid</th>\n",
       "      <th>recordID</th>\n",
       "      <th>species</th>\n",
       "      <th>genus</th>\n",
       "      <th>family</th>\n",
       "      <th>sequenceID</th>\n",
       "      <th>markercode</th>\n",
       "      <th>nucleotides</th>\n",
       "      <th>length</th>\n",
       "    </tr>\n",
       "  </thead>\n",
       "  <tbody>\n",
       "    <tr>\n",
       "      <th>4</th>\n",
       "      <td>ALM033-11</td>\n",
       "      <td>BC-2011-36033</td>\n",
       "      <td>2096805</td>\n",
       "      <td>Salix nigra</td>\n",
       "      <td>Salix</td>\n",
       "      <td>Salicaceae</td>\n",
       "      <td>4179266</td>\n",
       "      <td>matK</td>\n",
       "      <td>GAAAAATTGGTTCAAATCCTTCGCTATTGGGTGAAAGATCCCTCCT...</td>\n",
       "      <td>824</td>\n",
       "    </tr>\n",
       "    <tr>\n",
       "      <th>5</th>\n",
       "      <td>ALM033-11</td>\n",
       "      <td>BC-2011-36033</td>\n",
       "      <td>2096805</td>\n",
       "      <td>Salix nigra</td>\n",
       "      <td>Salix</td>\n",
       "      <td>Salicaceae</td>\n",
       "      <td>4168959</td>\n",
       "      <td>rbcLa</td>\n",
       "      <td>GGTGTTGGATTCAAGGCTGGTGTTAAAGATTATAAATTGACTTATT...</td>\n",
       "      <td>552</td>\n",
       "    </tr>\n",
       "  </tbody>\n",
       "</table>\n",
       "</div>"
      ],
      "text/plain": [
       "   processid       sampleid  recordID      species  genus      family  \\\n",
       "4  ALM033-11  BC-2011-36033   2096805  Salix nigra  Salix  Salicaceae   \n",
       "5  ALM033-11  BC-2011-36033   2096805  Salix nigra  Salix  Salicaceae   \n",
       "\n",
       "  sequenceID markercode                                        nucleotides  \\\n",
       "4    4179266       matK  GAAAAATTGGTTCAAATCCTTCGCTATTGGGTGAAAGATCCCTCCT...   \n",
       "5    4168959      rbcLa  GGTGTTGGATTCAAGGCTGGTGTTAAAGATTATAAATTGACTTATT...   \n",
       "\n",
       "   length  \n",
       "4     824  \n",
       "5     552  "
      ]
     },
     "execution_count": 9,
     "metadata": {},
     "output_type": "execute_result"
    }
   ],
   "source": [
    "bold_df=df[df.markercode.isin(markers)]\n",
    "bold_df['length']=bold_df.nucleotides.str.replace('-', '').str.len()\n",
    "bold_df = bold_df.rename(columns={'sequenceID':'SeqID'})\n",
    "print(bold_df.shape)\n",
    "bold_df[:2]"
   ]
  },
  {
   "cell_type": "code",
   "execution_count": 10,
   "metadata": {},
   "outputs": [
    {
     "data": {
      "text/plain": [
       "processid      0\n",
       "sampleid       0\n",
       "recordID       0\n",
       "species        0\n",
       "genus          0\n",
       "family         0\n",
       "sequenceID     0\n",
       "markercode     0\n",
       "nucleotides    0\n",
       "length         0\n",
       "dtype: int64"
      ]
     },
     "execution_count": 10,
     "metadata": {},
     "output_type": "execute_result"
    }
   ],
   "source": [
    "bold_df.isna().sum()"
   ]
  },
  {
   "cell_type": "code",
   "execution_count": 11,
   "metadata": {},
   "outputs": [
    {
     "data": {
      "text/plain": [
       "processid      157261\n",
       "sampleid       157259\n",
       "recordID       157261\n",
       "species         55433\n",
       "genus            9961\n",
       "family            424\n",
       "sequenceID     188253\n",
       "markercode          3\n",
       "nucleotides    129048\n",
       "length           1628\n",
       "dtype: int64"
      ]
     },
     "execution_count": 11,
     "metadata": {},
     "output_type": "execute_result"
    }
   ],
   "source": [
    "bold_df.nunique()"
   ]
  },
  {
   "cell_type": "markdown",
   "metadata": {},
   "source": [
    "## Save to fasta"
   ]
  },
  {
   "cell_type": "code",
   "execution_count": 25,
   "metadata": {},
   "outputs": [],
   "source": [
    "def writefasta(sample_name, df_sample):\n",
    "    file1 = open(sample_name + '_raw.fasta',\"w\")\n",
    "    for index, iseq in tqdm(df_sample.iterrows()):\n",
    "        try:\n",
    "            file1.write('>' + str(iseq.SeqID) + ' sci_name=' + iseq.species + ', sampleid=' + \n",
    "                        str(iseq.sampleid) + ', length=' + str(len(iseq.nucleotides)) + '\\n') \n",
    "            \n",
    "            #Sequences are aligned, choice to removed alignment information\n",
    "            file1.write(iseq.nucleotides.replace('-', '') + '\\n') \n",
    "        except:\n",
    "            print('failed writing ' + str(iseq.SeqID) + ', species_name=' + iseq.species)\n",
    "    file1.close()"
   ]
  },
  {
   "cell_type": "code",
   "execution_count": 26,
   "metadata": {},
   "outputs": [
    {
     "name": "stderr",
     "output_type": "stream",
     "text": [
      "373it [00:00, 3266.29it/s]"
     ]
    },
    {
     "name": "stdout",
     "output_type": "stream",
     "text": [
      "(92297, 10)\n",
      "(92297, 10)\n"
     ]
    },
    {
     "name": "stderr",
     "output_type": "stream",
     "text": [
      "92297it [00:18, 4893.94it/s]\n",
      "355it [00:00, 3415.66it/s]"
     ]
    },
    {
     "name": "stdout",
     "output_type": "stream",
     "text": [
      "(56559, 10)\n",
      "(56559, 10)\n"
     ]
    },
    {
     "name": "stderr",
     "output_type": "stream",
     "text": [
      "56559it [00:10, 5552.79it/s]\n",
      "442it [00:00, 3980.18it/s]"
     ]
    },
    {
     "name": "stdout",
     "output_type": "stream",
     "text": [
      "(39397, 10)\n",
      "(39397, 10)\n"
     ]
    },
    {
     "name": "stderr",
     "output_type": "stream",
     "text": [
      "39397it [00:06, 5951.14it/s]\n"
     ]
    }
   ],
   "source": [
    "for imarker in markers:\n",
    "    bold_marker=bold_df[bold_df.markercode==imarker]\n",
    "    print(bold_marker.shape)\n",
    "    bold_marker=bold_marker.drop_duplicates(subset='SeqID')\n",
    "    print(bold_marker.shape)\n",
    "    writefasta(sample_name = 'BOLD_pln_' + imarker, df_sample = bold_marker)\n",
    "    bold_marker.drop(columns=['nucleotides','markercode']).to_csv('BOLD_pln_' + imarker + '_raw_SeqID.csv', index=False)"
   ]
  },
  {
   "cell_type": "code",
   "execution_count": 24,
   "metadata": {},
   "outputs": [
    {
     "name": "stdout",
     "output_type": "stream",
     "text": [
      "0.01     420.0\n",
      "0.05     510.0\n",
      "0.10     527.0\n",
      "0.50     552.0\n",
      "0.90     568.0\n",
      "0.95     706.0\n",
      "0.99    1455.0\n",
      "Name: length, dtype: float64\n"
     ]
    },
    {
     "data": {
      "text/plain": [
       "<matplotlib.axes._subplots.AxesSubplot at 0x204e7a0a7c8>"
      ]
     },
     "execution_count": 24,
     "metadata": {},
     "output_type": "execute_result"
    },
    {
     "data": {
      "image/png": "[encoded data removed]",
      "text/plain": [
       "<Figure size 432x288 with 1 Axes>"
      ]
     },
     "metadata": {
      "needs_background": "light"
     },
     "output_type": "display_data"
    }
   ],
   "source": [
    "bold_marker=bold_df[bold_df.markercode=='rbcLa']\n",
    "print(bold_marker.length.quantile([0.01, 0.05, .1, .5, 0.9, 0.95, 0.99]))\n",
    "bold_marker.length.hist(bins=50)"
   ]
  },
  {
   "cell_type": "code",
   "execution_count": 23,
   "metadata": {},
   "outputs": [
    {
     "name": "stdout",
     "output_type": "stream",
     "text": [
      "0.01     423.0\n",
      "0.05     505.0\n",
      "0.10     531.0\n",
      "0.50     697.0\n",
      "0.90    1389.0\n",
      "0.95    1389.0\n",
      "0.99    1425.0\n",
      "Name: length, dtype: float64\n"
     ]
    },
    {
     "data": {
      "text/plain": [
       "<matplotlib.axes._subplots.AxesSubplot at 0x204e7919c48>"
      ]
     },
     "execution_count": 23,
     "metadata": {},
     "output_type": "execute_result"
    },
    {
     "data": {
      "image/png": "[encoded data removed]",
      "text/plain": [
       "<Figure size 432x288 with 1 Axes>"
      ]
     },
     "metadata": {
      "needs_background": "light"
     },
     "output_type": "display_data"
    }
   ],
   "source": [
    "bold_marker=bold_df[bold_df.markercode=='rbcL']\n",
    "print(bold_marker.length.quantile([0.01, 0.05, .1, .5, 0.9, 0.95, 0.99]))\n",
    "bold_marker.length.hist(bins=50)"
   ]
  },
  {
   "cell_type": "code",
   "execution_count": 22,
   "metadata": {},
   "outputs": [
    {
     "name": "stdout",
     "output_type": "stream",
     "text": [
      "0.01     330.00\n",
      "0.05     510.00\n",
      "0.10     632.00\n",
      "0.50     819.00\n",
      "0.90    1531.00\n",
      "0.95    1545.00\n",
      "0.99    1567.04\n",
      "Name: length, dtype: float64\n"
     ]
    },
    {
     "data": {
      "text/plain": [
       "<matplotlib.axes._subplots.AxesSubplot at 0x204e781cf88>"
      ]
     },
     "execution_count": 22,
     "metadata": {},
     "output_type": "execute_result"
    },
    {
     "data": {
      "image/png": "[encoded data removed]",
      "text/plain": [
       "<Figure size 432x288 with 1 Axes>"
      ]
     },
     "metadata": {
      "needs_background": "light"
     },
     "output_type": "display_data"
    }
   ],
   "source": [
    "bold_marker=bold_df[bold_df.markercode=='matK']\n",
    "print(bold_marker.length.quantile([0.01, 0.05, .1, .5, 0.9, 0.95, 0.99]))\n",
    "bold_marker.length.hist(bins=50)"
   ]
  }
 ],
 "metadata": {
  "kernelspec": {
   "display_name": "Python 3",
   "language": "python",
   "name": "python3"
  },
  "language_info": {
   "codemirror_mode": {
    "name": "ipython",
    "version": 3
   },
   "file_extension": ".py",
   "mimetype": "text/x-python",
   "name": "python",
   "nbconvert_exporter": "python",
   "pygments_lexer": "ipython3",
   "version": "3.7.6"
  }
 },
 "nbformat": 4,
 "nbformat_minor": 4
}
