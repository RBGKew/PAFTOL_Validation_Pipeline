{
 "cells": [
  {
   "cell_type": "code",
   "execution_count": 1,
   "metadata": {},
   "outputs": [
    {
     "name": "stdout",
     "output_type": "stream",
     "text": [
      "Loading dependencies...Successful\n"
     ]
    }
   ],
   "source": [
    "print ('Loading dependencies...', end = '')\n",
    "try:\n",
    "    import pandas as pd\n",
    "    from tqdm import tqdm\n",
    "    import numpy as np\n",
    "    import os\n",
    "    from Bio import SeqIO\n",
    "    from Bio.SeqRecord import SeqRecord\n",
    "    from Bio.Seq import Seq\n",
    "    import sys\n",
    "    from ete3 import NCBITaxa\n",
    "    ncbi = NCBITaxa()\n",
    "    print('Successful')\n",
    "except:\n",
    "    print('MISSING DEPENDENCIES!')"
   ]
  },
  {
   "cell_type": "code",
   "execution_count": 2,
   "metadata": {},
   "outputs": [],
   "source": [
    "max_N=0.05\n",
    "max_per_sp=2"
   ]
  },
  {
   "cell_type": "code",
   "execution_count": 3,
   "metadata": {},
   "outputs": [
    {
     "name": "stderr",
     "output_type": "stream",
     "text": [
      "C:\\ProgramData\\Anaconda3\\lib\\site-packages\\IPython\\core\\interactiveshell.py:3147: DtypeWarning: Columns (41) have mixed types.Specify dtype option on import or set low_memory=False.\n",
      "  interactivity=interactivity, compiler=compiler, result=result)\n"
     ]
    },
    {
     "name": "stdout",
     "output_type": "stream",
     "text": [
      "(440117, 46)\n",
      "Index(['processid', 'sampleid', 'recordID', 'catalognum', 'fieldnum',\n",
      "       'institution_storing', 'bin_uri', 'phylum_taxID', 'phylum_name',\n",
      "       'class_taxID', 'class_name', 'order_taxID', 'order_name',\n",
      "       'family_taxID', 'family', 'subfamily_taxID', 'subfamily_name',\n",
      "       'genus_taxID', 'genus', 'species_taxID', 'sci_name', 'subspecies_taxID',\n",
      "       'subspecies_name', 'identification_provided_by', 'voucher_type',\n",
      "       'tissue_type', 'collectors', 'collectiondate', 'lifestage', 'sex',\n",
      "       'reproduction', 'extrainfo', 'notes', 'lat', 'lon', 'coord_source',\n",
      "       'coord_accuracy', 'country', 'province', 'region', 'exactsite',\n",
      "       'sequenceID', 'markercode', 'genbank_accession', 'nucleotides',\n",
      "       'Unnamed: 45'],\n",
      "      dtype='object')\n"
     ]
    },
    {
     "data": {
      "text/html": [
       "<div>\n",
       "<style scoped>\n",
       "    .dataframe tbody tr th:only-of-type {\n",
       "        vertical-align: middle;\n",
       "    }\n",
       "\n",
       "    .dataframe tbody tr th {\n",
       "        vertical-align: top;\n",
       "    }\n",
       "\n",
       "    .dataframe thead th {\n",
       "        text-align: right;\n",
       "    }\n",
       "</style>\n",
       "<table border=\"1\" class=\"dataframe\">\n",
       "  <thead>\n",
       "    <tr style=\"text-align: right;\">\n",
       "      <th></th>\n",
       "      <th>processid</th>\n",
       "      <th>sampleid</th>\n",
       "      <th>recordID</th>\n",
       "      <th>catalognum</th>\n",
       "      <th>fieldnum</th>\n",
       "      <th>institution_storing</th>\n",
       "      <th>bin_uri</th>\n",
       "      <th>phylum_taxID</th>\n",
       "      <th>phylum_name</th>\n",
       "      <th>class_taxID</th>\n",
       "      <th>...</th>\n",
       "      <th>coord_accuracy</th>\n",
       "      <th>country</th>\n",
       "      <th>province</th>\n",
       "      <th>region</th>\n",
       "      <th>exactsite</th>\n",
       "      <th>sequenceID</th>\n",
       "      <th>markercode</th>\n",
       "      <th>genbank_accession</th>\n",
       "      <th>nucleotides</th>\n",
       "      <th>Unnamed: 45</th>\n",
       "    </tr>\n",
       "  </thead>\n",
       "  <tbody>\n",
       "    <tr>\n",
       "      <th>0</th>\n",
       "      <td>ALM007-11</td>\n",
       "      <td>BC-2011-36007</td>\n",
       "      <td>2096779</td>\n",
       "      <td></td>\n",
       "      <td>1194-1998-A</td>\n",
       "      <td>Universite de Montreal, L'Herbier Marie-Victorin</td>\n",
       "      <td></td>\n",
       "      <td>12</td>\n",
       "      <td>Magnoliophyta</td>\n",
       "      <td>41</td>\n",
       "      <td>...</td>\n",
       "      <td></td>\n",
       "      <td>Canada</td>\n",
       "      <td>Quebec</td>\n",
       "      <td></td>\n",
       "      <td></td>\n",
       "      <td>4168886</td>\n",
       "      <td>rbcLa</td>\n",
       "      <td></td>\n",
       "      <td>GGTGTTGGATTCAAGGCTGGTGTTAAAGATTATAAATTGACTTATT...</td>\n",
       "      <td>NaN</td>\n",
       "    </tr>\n",
       "    <tr>\n",
       "      <th>1</th>\n",
       "      <td>ALM007-11</td>\n",
       "      <td>BC-2011-36007</td>\n",
       "      <td>2096779</td>\n",
       "      <td></td>\n",
       "      <td>1194-1998-A</td>\n",
       "      <td>Universite de Montreal, L'Herbier Marie-Victorin</td>\n",
       "      <td></td>\n",
       "      <td>12</td>\n",
       "      <td>Magnoliophyta</td>\n",
       "      <td>41</td>\n",
       "      <td>...</td>\n",
       "      <td></td>\n",
       "      <td>Canada</td>\n",
       "      <td>Quebec</td>\n",
       "      <td></td>\n",
       "      <td></td>\n",
       "      <td>4179205</td>\n",
       "      <td>matK</td>\n",
       "      <td></td>\n",
       "      <td>GAAAAATTGGTTCAAATCCTTCGCTATTGGGTGAAAGATCCCTCCT...</td>\n",
       "      <td>NaN</td>\n",
       "    </tr>\n",
       "  </tbody>\n",
       "</table>\n",
       "<p>2 rows × 46 columns</p>\n",
       "</div>"
      ],
      "text/plain": [
       "   processid       sampleid  recordID catalognum     fieldnum  \\\n",
       "0  ALM007-11  BC-2011-36007   2096779             1194-1998-A   \n",
       "1  ALM007-11  BC-2011-36007   2096779             1194-1998-A   \n",
       "\n",
       "                                institution_storing bin_uri  phylum_taxID  \\\n",
       "0  Universite de Montreal, L'Herbier Marie-Victorin                    12   \n",
       "1  Universite de Montreal, L'Herbier Marie-Victorin                    12   \n",
       "\n",
       "     phylum_name class_taxID  ... coord_accuracy country province region  \\\n",
       "0  Magnoliophyta          41  ...                 Canada   Quebec          \n",
       "1  Magnoliophyta          41  ...                 Canada   Quebec          \n",
       "\n",
       "  exactsite sequenceID markercode genbank_accession  \\\n",
       "0              4168886      rbcLa                     \n",
       "1              4179205       matK                     \n",
       "\n",
       "                                         nucleotides Unnamed: 45  \n",
       "0  GGTGTTGGATTCAAGGCTGGTGTTAAAGATTATAAATTGACTTATT...         NaN  \n",
       "1  GAAAAATTGGTTCAAATCCTTCGCTATTGGGTGAAAGATCCCTCCT...         NaN  \n",
       "\n",
       "[2 rows x 46 columns]"
      ]
     },
     "execution_count": 3,
     "metadata": {},
     "output_type": "execute_result"
    }
   ],
   "source": [
    "#Sourcing from BOLD https://v3.boldsystems.org/index.php/Public_SearchTerms?query=Magnoliophyta[tax] \n",
    "df=pd.read_table('bold_data.txt',encoding = \"latin\").rename(columns={'species_name':'sci_name',\n",
    "                'genus_name':'genus','family_name':'family'})\n",
    "print(df.shape)\n",
    "print(df.columns)\n",
    "df[:2]"
   ]
  },
  {
   "cell_type": "code",
   "execution_count": 4,
   "metadata": {},
   "outputs": [
    {
     "data": {
      "text/html": [
       "<div>\n",
       "<style scoped>\n",
       "    .dataframe tbody tr th:only-of-type {\n",
       "        vertical-align: middle;\n",
       "    }\n",
       "\n",
       "    .dataframe tbody tr th {\n",
       "        vertical-align: top;\n",
       "    }\n",
       "\n",
       "    .dataframe thead th {\n",
       "        text-align: right;\n",
       "    }\n",
       "</style>\n",
       "<table border=\"1\" class=\"dataframe\">\n",
       "  <thead>\n",
       "    <tr style=\"text-align: right;\">\n",
       "      <th></th>\n",
       "      <th>processid</th>\n",
       "      <th>sampleid</th>\n",
       "      <th>recordID</th>\n",
       "      <th>sci_name</th>\n",
       "      <th>genus</th>\n",
       "      <th>family</th>\n",
       "      <th>sequenceID</th>\n",
       "      <th>markercode</th>\n",
       "      <th>nucleotides</th>\n",
       "    </tr>\n",
       "  </thead>\n",
       "  <tbody>\n",
       "    <tr>\n",
       "      <th>0</th>\n",
       "      <td>ALM007-11</td>\n",
       "      <td>BC-2011-36007</td>\n",
       "      <td>2096779</td>\n",
       "      <td></td>\n",
       "      <td></td>\n",
       "      <td></td>\n",
       "      <td>4168886</td>\n",
       "      <td>rbcLa</td>\n",
       "      <td>GGTGTTGGATTCAAGGCTGGTGTTAAAGATTATAAATTGACTTATT...</td>\n",
       "    </tr>\n",
       "    <tr>\n",
       "      <th>1</th>\n",
       "      <td>ALM007-11</td>\n",
       "      <td>BC-2011-36007</td>\n",
       "      <td>2096779</td>\n",
       "      <td></td>\n",
       "      <td></td>\n",
       "      <td></td>\n",
       "      <td>4179205</td>\n",
       "      <td>matK</td>\n",
       "      <td>GAAAAATTGGTTCAAATCCTTCGCTATTGGGTGAAAGATCCCTCCT...</td>\n",
       "    </tr>\n",
       "  </tbody>\n",
       "</table>\n",
       "</div>"
      ],
      "text/plain": [
       "   processid       sampleid  recordID sci_name genus family sequenceID  \\\n",
       "0  ALM007-11  BC-2011-36007   2096779                          4168886   \n",
       "1  ALM007-11  BC-2011-36007   2096779                          4179205   \n",
       "\n",
       "  markercode                                        nucleotides  \n",
       "0      rbcLa  GGTGTTGGATTCAAGGCTGGTGTTAAAGATTATAAATTGACTTATT...  \n",
       "1       matK  GAAAAATTGGTTCAAATCCTTCGCTATTGGGTGAAAGATCCCTCCT...  "
      ]
     },
     "execution_count": 4,
     "metadata": {},
     "output_type": "execute_result"
    }
   ],
   "source": [
    "df = df [['processid', 'sampleid', 'recordID', 'sci_name', 'genus', 'family','sequenceID', \n",
    "           'markercode', 'nucleotides']]\n",
    "df[:2]"
   ]
  },
  {
   "cell_type": "code",
   "execution_count": 5,
   "metadata": {},
   "outputs": [
    {
     "name": "stdout",
     "output_type": "stream",
     "text": [
      "(440117, 9)\n",
      "(385516, 9)\n",
      "(385516, 9)\n",
      "(376089, 9)\n"
     ]
    }
   ],
   "source": [
    "# Remove samples without species name\n",
    "print(df.shape)\n",
    "df = df[~df.sci_name.isna()]\n",
    "df = df[~ (df.sci_name == ' ')]\n",
    "print(df.shape)\n",
    "# Remove samples without sequence\n",
    "print(df.shape)\n",
    "df = df[~df.nucleotides.isna()]\n",
    "df = df[~ (df.nucleotides == ' ')]\n",
    "print(df.shape)"
   ]
  },
  {
   "cell_type": "code",
   "execution_count": 17,
   "metadata": {},
   "outputs": [
    {
     "data": {
      "text/plain": [
       "markercode\n",
       "rbcL               99058\n",
       "matK               94446\n",
       "ITS2               92403\n",
       "ITS                72187\n",
       "trnH-psbA           8768\n",
       "trnL-F              2266\n",
       "ITS1                1673\n",
       "rpoC1               1196\n",
       "atpF-atpH           1120\n",
       "rpoB                 815\n",
       "psbK-psbI            731\n",
       "COI-5P               694\n",
       "ycf1                 137\n",
       "atpB-rbcL             94\n",
       "trnK                  72\n",
       "ETS-1                 63\n",
       "matR                  61\n",
       "matK-trnK             48\n",
       "petD-intron           48\n",
       "COXIII                47\n",
       "COII                  46\n",
       "atp6                  46\n",
       "matK-like             26\n",
       "cp-RPS16-intron       25\n",
       "rbcL-like             19\n",
       "dtype: int64"
      ]
     },
     "execution_count": 17,
     "metadata": {},
     "output_type": "execute_result"
    }
   ],
   "source": [
    "df.groupby('markercode').size().sort_values(ascending=False)"
   ]
  },
  {
   "cell_type": "code",
   "execution_count": 7,
   "metadata": {},
   "outputs": [],
   "source": [
    "df.loc[df.markercode=='rbcLa','markercode']='rbcL'"
   ]
  },
  {
   "cell_type": "code",
   "execution_count": 8,
   "metadata": {},
   "outputs": [],
   "source": [
    "markers=['matK', 'ITS2', 'rbcL','trnH-psbA']"
   ]
  },
  {
   "cell_type": "code",
   "execution_count": 9,
   "metadata": {},
   "outputs": [
    {
     "name": "stderr",
     "output_type": "stream",
     "text": [
      "C:\\Users\\kle10kg\\AppData\\Roaming\\Python\\Python37\\site-packages\\ipykernel_launcher.py:2: SettingWithCopyWarning: \n",
      "A value is trying to be set on a copy of a slice from a DataFrame.\n",
      "Try using .loc[row_indexer,col_indexer] = value instead\n",
      "\n",
      "See the caveats in the documentation: https://pandas.pydata.org/pandas-docs/stable/user_guide/indexing.html#returning-a-view-versus-a-copy\n",
      "  \n",
      "C:\\Users\\kle10kg\\AppData\\Roaming\\Python\\Python37\\site-packages\\ipykernel_launcher.py:3: SettingWithCopyWarning: \n",
      "A value is trying to be set on a copy of a slice from a DataFrame.\n",
      "Try using .loc[row_indexer,col_indexer] = value instead\n",
      "\n",
      "See the caveats in the documentation: https://pandas.pydata.org/pandas-docs/stable/user_guide/indexing.html#returning-a-view-versus-a-copy\n",
      "  This is separate from the ipykernel package so we can avoid doing imports until\n"
     ]
    },
    {
     "name": "stdout",
     "output_type": "stream",
     "text": [
      "(294675, 11)\n"
     ]
    },
    {
     "data": {
      "text/html": [
       "<div>\n",
       "<style scoped>\n",
       "    .dataframe tbody tr th:only-of-type {\n",
       "        vertical-align: middle;\n",
       "    }\n",
       "\n",
       "    .dataframe tbody tr th {\n",
       "        vertical-align: top;\n",
       "    }\n",
       "\n",
       "    .dataframe thead th {\n",
       "        text-align: right;\n",
       "    }\n",
       "</style>\n",
       "<table border=\"1\" class=\"dataframe\">\n",
       "  <thead>\n",
       "    <tr style=\"text-align: right;\">\n",
       "      <th></th>\n",
       "      <th>processid</th>\n",
       "      <th>sampleid</th>\n",
       "      <th>recordID</th>\n",
       "      <th>sci_name</th>\n",
       "      <th>genus</th>\n",
       "      <th>family</th>\n",
       "      <th>Locus</th>\n",
       "      <th>markercode</th>\n",
       "      <th>nucleotides</th>\n",
       "      <th>Seq</th>\n",
       "      <th>Len</th>\n",
       "    </tr>\n",
       "  </thead>\n",
       "  <tbody>\n",
       "    <tr>\n",
       "      <th>4</th>\n",
       "      <td>ALM016-11</td>\n",
       "      <td>BC-2011-36016</td>\n",
       "      <td>2096788</td>\n",
       "      <td>Salix chlorolepis</td>\n",
       "      <td>Salix</td>\n",
       "      <td>Salicaceae</td>\n",
       "      <td>4179227</td>\n",
       "      <td>matK</td>\n",
       "      <td>GAAAAATTGGTTCAAATCCTTCGCTATTGGGTGAAAGATCCCTCCT...</td>\n",
       "      <td>GAAAAATTGGTTCAAATCCTTCGCTATTGGGTGAAAGATCCCTCCT...</td>\n",
       "      <td>824</td>\n",
       "    </tr>\n",
       "    <tr>\n",
       "      <th>5</th>\n",
       "      <td>ALM016-11</td>\n",
       "      <td>BC-2011-36016</td>\n",
       "      <td>2096788</td>\n",
       "      <td>Salix chlorolepis</td>\n",
       "      <td>Salix</td>\n",
       "      <td>Salicaceae</td>\n",
       "      <td>4168892</td>\n",
       "      <td>rbcL</td>\n",
       "      <td>GGTGTTGGATTCAAGGCTGGTGTTAAAGATTATAAATTGACTTATT...</td>\n",
       "      <td>GGTGTTGGATTCAAGGCTGGTGTTAAAGATTATAAATTGACTTATT...</td>\n",
       "      <td>552</td>\n",
       "    </tr>\n",
       "  </tbody>\n",
       "</table>\n",
       "</div>"
      ],
      "text/plain": [
       "   processid       sampleid  recordID           sci_name  genus      family  \\\n",
       "4  ALM016-11  BC-2011-36016   2096788  Salix chlorolepis  Salix  Salicaceae   \n",
       "5  ALM016-11  BC-2011-36016   2096788  Salix chlorolepis  Salix  Salicaceae   \n",
       "\n",
       "     Locus markercode                                        nucleotides  \\\n",
       "4  4179227       matK  GAAAAATTGGTTCAAATCCTTCGCTATTGGGTGAAAGATCCCTCCT...   \n",
       "5  4168892       rbcL  GGTGTTGGATTCAAGGCTGGTGTTAAAGATTATAAATTGACTTATT...   \n",
       "\n",
       "                                                 Seq  Len  \n",
       "4  GAAAAATTGGTTCAAATCCTTCGCTATTGGGTGAAAGATCCCTCCT...  824  \n",
       "5  GGTGTTGGATTCAAGGCTGGTGTTAAAGATTATAAATTGACTTATT...  552  "
      ]
     },
     "execution_count": 9,
     "metadata": {},
     "output_type": "execute_result"
    }
   ],
   "source": [
    "bold_df=df[df.markercode.isin(markers)]\n",
    "bold_df['Seq']=bold_df.nucleotides.str.replace('-', '')\n",
    "bold_df['Len']=bold_df.Seq.str.len()\n",
    "bold_df = bold_df.rename(columns={'sequenceID':'Locus'})\n",
    "print(bold_df.shape)\n",
    "bold_df[:2]"
   ]
  },
  {
   "cell_type": "code",
   "execution_count": 10,
   "metadata": {},
   "outputs": [
    {
     "name": "stdout",
     "output_type": "stream",
     "text": [
      "{'processid': 0, 'sampleid': 0, 'recordID': 0, 'sci_name': 0, 'genus': 0, 'family': 0, 'Locus': 0, 'markercode': 0, 'nucleotides': 0, 'Seq': 0, 'Len': 0}\n",
      "{'processid': 232411, 'sampleid': 232409, 'recordID': 232411, 'sci_name': 77398, 'genus': 11125, 'family': 426, 'Locus': 294675, 'markercode': 4, 'nucleotides': 203236, 'Seq': 199233, 'Len': 1682}\n"
     ]
    }
   ],
   "source": [
    "print(bold_df.isna().sum().to_dict())\n",
    "print(bold_df.nunique().to_dict())"
   ]
  },
  {
   "cell_type": "markdown",
   "metadata": {},
   "source": [
    "## Filter using WCVP"
   ]
  },
  {
   "cell_type": "code",
   "execution_count": 11,
   "metadata": {},
   "outputs": [
    {
     "name": "stderr",
     "output_type": "stream",
     "text": [
      "C:\\Users\\kle10kg\\AppData\\Roaming\\Python\\Python37\\site-packages\\ipykernel_launcher.py:3: FutureWarning: The default value of regex will change from True to False in a future version. In addition, single character regular expressions will*not* be treated as literal strings when regex=True.\n",
      "  This is separate from the ipykernel package so we can avoid doing imports until\n"
     ]
    }
   ],
   "source": [
    "rm_char='[]()'\n",
    "for char in rm_char:\n",
    "    bold_df['sci_name'] = bold_df['sci_name'].str.replace(char,'')"
   ]
  },
  {
   "cell_type": "code",
   "execution_count": 12,
   "metadata": {},
   "outputs": [
    {
     "name": "stdout",
     "output_type": "stream",
     "text": [
      "sending 77398 species names to WCVP_taxo\n"
     ]
    }
   ],
   "source": [
    "print('sending',bold_df.sci_name.nunique(),'species names to WCVP_taxo')\n",
    "bold_df.groupby('sci_name').head(1).sci_name.to_csv('BOLD_species.csv',index=False)"
   ]
  },
  {
   "cell_type": "code",
   "execution_count": 13,
   "metadata": {},
   "outputs": [
    {
     "data": {
      "text/plain": [
       "Index(['processid', 'sampleid', 'recordID', 'sci_name', 'genus', 'family',\n",
       "       'Locus', 'markercode', 'nucleotides', 'Seq', 'Len'],\n",
       "      dtype='object')"
      ]
     },
     "execution_count": 13,
     "metadata": {},
     "output_type": "execute_result"
    }
   ],
   "source": [
    "bold_df.columns"
   ]
  },
  {
   "cell_type": "code",
   "execution_count": 14,
   "metadata": {},
   "outputs": [
    {
     "name": "stdout",
     "output_type": "stream",
     "text": [
      "running wcvp_taxo...found 65026 species in WCVP\n",
      "294675 > 279108\n",
      "f: 412 g: 10137 s: 65026\n"
     ]
    }
   ],
   "source": [
    "print('running wcvp_taxo',end='...')\n",
    "print(os.system('python ../../PAFTOL_DB/wcvp_taxo.py ../../PAFTOL_DB/wcvp_v5_jun_2021.txt ' + \\\n",
    "          'BOLD_species.csv' + ' -g -s similarity_genus -d divert_genusOK'))\n",
    "wcvp = pd.read_csv('BOLD_species' + '_wcvp.csv')\n",
    "wcvp = wcvp[wcvp.sci_name.notnull()]\n",
    "print('found',wcvp.sci_name.nunique(),'species in WCVP')\n",
    "print(bold_df.shape[0],end=' > ')\n",
    "bold_df = pd.merge(bold_df.rename(columns={'sci_name':'Ini_sci_name'}).drop(columns=['family','genus']),\n",
    "                   wcvp,how='inner',on='Ini_sci_name')\n",
    "print(bold_df.shape[0])\n",
    "print('f:',bold_df.family.nunique(),'g:',bold_df.genus.nunique(),'s:',bold_df.sci_name.nunique())"
   ]
  },
  {
   "cell_type": "code",
   "execution_count": 15,
   "metadata": {},
   "outputs": [
    {
     "name": "stderr",
     "output_type": "stream",
     "text": [
      "C:\\Users\\kle10kg\\AppData\\Roaming\\Python\\Python37\\site-packages\\ipykernel_launcher.py:3: FutureWarning: The default value of regex will change from True to False in a future version. In addition, single character regular expressions will*not* be treated as literal strings when regex=True.\n",
      "  This is separate from the ipykernel package so we can avoid doing imports until\n"
     ]
    }
   ],
   "source": [
    "rm_char='[]()×'\n",
    "for char in rm_char:\n",
    "    bold_df['sci_name'] = bold_df['sci_name'].str.replace(char,'')"
   ]
  },
  {
   "cell_type": "markdown",
   "metadata": {},
   "source": [
    "## Save to fasta"
   ]
  },
  {
   "cell_type": "code",
   "execution_count": 16,
   "metadata": {},
   "outputs": [],
   "source": [
    "def writefasta(rec_df, marker):\n",
    "    rec_fasta=[]\n",
    "    for idx, row in rec_df.iterrows():\n",
    "        record = SeqRecord(Seq(row.Seq))\n",
    "        record.id = str(row.Locus)\n",
    "        record.description = ';' \\\n",
    "        + 'f=' + row.family + ',g=' + row.genus + ',s=' + row.sci_name + ',ini_s=' + row.Ini_sci_name + ';'\n",
    "        rec_fasta.append(record)\n",
    "#     return rec_fasta\n",
    "    SeqIO.write(rec_fasta,'BOLD_' + marker + '.fasta',format='fasta')"
   ]
  },
  {
   "cell_type": "code",
   "execution_count": 30,
   "metadata": {},
   "outputs": [
    {
     "name": "stdout",
     "output_type": "stream",
     "text": [
      "f: 408 g: 7660 s: 31953\n",
      "{0.01: 425.0, 0.05: 508.0, 0.1: 529.0, 0.5: 553.0, 0.9: 1386.0, 0.95: 1389.0, 0.99: 1449.0}\n",
      "94258 > 44992 > 20935\n",
      "{0.01: 522.0, 0.05: 527.0, 0.1: 538.0, 0.5: 552.0, 0.9: 553.0, 0.95: 567.0, 0.99: 576.0}\n",
      "f: 300 g: 3660 s: 13528\n"
     ]
    },
    {
     "data": {
      "image/png": "[encoded data removed]",
      "text/plain": [
       "<Figure size 432x288 with 1 Axes>"
      ]
     },
     "metadata": {
      "needs_background": "light"
     },
     "output_type": "display_data"
    }
   ],
   "source": [
    "marker = 'rbcLa'\n",
    "bold_marker=bold_df[bold_df.markercode=='rbcL']\n",
    "print('f:',bold_marker.family.nunique(),'g:',bold_marker.genus.nunique(),'s:',bold_marker.sci_name.nunique())\n",
    "print(bold_marker.Len.quantile([0.01, 0.05, .1, .5, 0.9, 0.95, 0.99]).to_dict())\n",
    "bold_marker.Len.hist(bins=50);\n",
    "print(bold_marker.shape[0],end=' > ')\n",
    "bold_marker = bold_marker[(bold_marker.Len>=520) & (bold_marker.Len<=580)]\n",
    "print(bold_marker.shape[0],end=' > ')\n",
    "bold_marker = bold_marker.sort_values('family').groupby('sci_name').head(2)\n",
    "print(bold_marker.shape[0])\n",
    "print(bold_marker.Len.quantile([0.01, 0.05, .1, .5, 0.9, 0.95, 0.99]).to_dict())\n",
    "writefasta(bold_marker,marker)\n",
    "bold_marker[['Locus','Len',\n",
    "          'sci_name', 'kew_id','family', 'genus', 'species', 'infraspecies', 'Duplicates',\n",
    "          'Ini_sci_name']].to_csv('BOLD_' + marker + '_TAXO.csv',index=False)\n",
    "print('f:',bold_marker.family.nunique(),'g:',bold_marker.genus.nunique(),'s:',bold_marker.sci_name.nunique())"
   ]
  },
  {
   "cell_type": "code",
   "execution_count": 35,
   "metadata": {},
   "outputs": [
    {
     "name": "stdout",
     "output_type": "stream",
     "text": [
      "f: 408 g: 7660 s: 31953\n",
      "{0.01: 425.0, 0.05: 508.0, 0.1: 529.0, 0.5: 553.0, 0.9: 1386.0, 0.95: 1389.0, 0.99: 1449.0}\n",
      "94258 > 23572 > 20396\n",
      "{0.01: 1212.0, 0.05: 1251.0, 0.1: 1281.0, 0.5: 1362.0, 0.9: 1389.0, 0.95: 1428.0, 0.99: 1458.0}\n",
      "f: 401 g: 6113 s: 16725\n"
     ]
    },
    {
     "data": {
      "image/png": "[encoded data removed]",
      "text/plain": [
       "<Figure size 432x288 with 1 Axes>"
      ]
     },
     "metadata": {
      "needs_background": "light"
     },
     "output_type": "display_data"
    }
   ],
   "source": [
    "marker = 'rbcL'\n",
    "bold_marker=bold_df[bold_df.markercode==marker]\n",
    "print('f:',bold_marker.family.nunique(),'g:',bold_marker.genus.nunique(),'s:',bold_marker.sci_name.nunique())\n",
    "print(bold_marker.Len.quantile([0.01, 0.05, .1, .5, 0.9, 0.95, 0.99]).to_dict())\n",
    "bold_marker.Len.hist(bins=50);\n",
    "print(bold_marker.shape[0],end=' > ')\n",
    "bold_marker = bold_marker[(bold_marker.Len>=1200) & (bold_marker.Len<=1500)]\n",
    "print(bold_marker.shape[0],end=' > ')\n",
    "bold_marker = bold_marker.sort_values('family').groupby('sci_name').head(2)\n",
    "print(bold_marker.shape[0])\n",
    "print(bold_marker.Len.quantile([0.01, 0.05, .1, .5, 0.9, 0.95, 0.99]).to_dict())\n",
    "writefasta(bold_marker,marker)\n",
    "bold_marker[['Locus','Len',\n",
    "          'sci_name', 'kew_id','family', 'genus', 'species', 'infraspecies', 'Duplicates',\n",
    "          'Ini_sci_name']].to_csv('BOLD_' + marker + '_TAXO.csv',index=False)\n",
    "print('f:',bold_marker.family.nunique(),'g:',bold_marker.genus.nunique(),'s:',bold_marker.sci_name.nunique())"
   ]
  },
  {
   "cell_type": "code",
   "execution_count": 37,
   "metadata": {},
   "outputs": [
    {
     "name": "stdout",
     "output_type": "stream",
     "text": [
      "f: 396 g: 7689 s: 37600\n",
      "{0.01: 330.0, 0.05: 510.0, 0.1: 631.0, 0.5: 817.0, 0.9: 1530.0, 0.95: 1544.0, 0.99: 1566.0}\n",
      "89752 > 52724 > 28474\n",
      "{0.01: 514.0, 0.05: 578.0, 0.1: 639.0, 0.5: 776.0, 0.9: 860.0, 0.95: 912.0, 0.99: 985.0}\n",
      "f: 331 g: 4393 s: 19697\n"
     ]
    },
    {
     "data": {
      "image/png": "[encoded data removed]",
      "text/plain": [
       "<Figure size 432x288 with 1 Axes>"
      ]
     },
     "metadata": {
      "needs_background": "light"
     },
     "output_type": "display_data"
    }
   ],
   "source": [
    "marker = 'matK'\n",
    "bold_marker=bold_df[bold_df.markercode==marker]\n",
    "print('f:',bold_marker.family.nunique(),'g:',bold_marker.genus.nunique(),'s:',bold_marker.sci_name.nunique())\n",
    "print(bold_marker.Len.quantile([0.01, 0.05, .1, .5, 0.9, 0.95, 0.99]).to_dict())\n",
    "bold_marker.Len.hist(bins=50);\n",
    "print(bold_marker.shape[0],end=' > ')\n",
    "bold_marker = bold_marker[(bold_marker.Len>=500) & (bold_marker.Len<=1000)]\n",
    "print(bold_marker.shape[0],end=' > ')\n",
    "bold_marker = bold_marker.sort_values('family').groupby('sci_name').head(2)\n",
    "print(bold_marker.shape[0])\n",
    "print(bold_marker.Len.quantile([0.01, 0.05, .1, .5, 0.9, 0.95, 0.99]).to_dict())\n",
    "writefasta(bold_marker,marker)\n",
    "bold_marker[['Locus','Len',\n",
    "          'sci_name', 'kew_id','family', 'genus', 'species', 'infraspecies', 'Duplicates',\n",
    "          'Ini_sci_name']].to_csv('BOLD_' + marker + '_TAXO.csv',index=False)\n",
    "print('f:',bold_marker.family.nunique(),'g:',bold_marker.genus.nunique(),'s:',bold_marker.sci_name.nunique())"
   ]
  },
  {
   "cell_type": "code",
   "execution_count": 38,
   "metadata": {},
   "outputs": [
    {
     "name": "stdout",
     "output_type": "stream",
     "text": [
      "f: 267 g: 5735 s: 36051\n",
      "{0.01: 166.0, 0.05: 191.0, 0.1: 203.0, 0.5: 229.0, 0.9: 351.0, 0.95: 420.0, 0.99: 460.0}\n",
      "86728 > 63489 > 40389\n",
      "{0.01: 176.0, 0.05: 191.0, 0.1: 201.0, 0.5: 221.0, 0.9: 250.0, 0.95: 260.0, 0.99: 276.0}\n",
      "f: 230 g: 5077 s: 30811\n"
     ]
    },
    {
     "data": {
      "image/png": "[encoded data removed]",
      "text/plain": [
       "<Figure size 432x288 with 1 Axes>"
      ]
     },
     "metadata": {
      "needs_background": "light"
     },
     "output_type": "display_data"
    }
   ],
   "source": [
    "marker = 'ITS2'\n",
    "bold_marker=bold_df[bold_df.markercode==marker]\n",
    "print('f:',bold_marker.family.nunique(),'g:',bold_marker.genus.nunique(),'s:',bold_marker.sci_name.nunique())\n",
    "print(bold_marker.Len.quantile([0.01, 0.05, .1, .5, 0.9, 0.95, 0.99]).to_dict())\n",
    "bold_marker.Len.hist(bins=50);\n",
    "print(bold_marker.shape[0],end=' > ')\n",
    "bold_marker = bold_marker[(bold_marker.Len>=170) & (bold_marker.Len<=280)]\n",
    "print(bold_marker.shape[0],end=' > ')\n",
    "bold_marker = bold_marker.sort_values('family').groupby('sci_name').head(2)\n",
    "print(bold_marker.shape[0])\n",
    "print(bold_marker.Len.quantile([0.01, 0.05, .1, .5, 0.9, 0.95, 0.99]).to_dict())\n",
    "writefasta(bold_marker,marker)\n",
    "bold_marker[['Locus','Len',\n",
    "          'sci_name', 'kew_id','family', 'genus', 'species', 'infraspecies', 'Duplicates',\n",
    "          'Ini_sci_name']].to_csv('BOLD_' + marker + '_TAXO.csv',index=False)\n",
    "print('f:',bold_marker.family.nunique(),'g:',bold_marker.genus.nunique(),'s:',bold_marker.sci_name.nunique())"
   ]
  },
  {
   "cell_type": "code",
   "execution_count": 39,
   "metadata": {},
   "outputs": [
    {
     "name": "stdout",
     "output_type": "stream",
     "text": [
      "f: 191 g: 1176 s: 3205\n",
      "{0.01: 196.0, 0.05: 236.0, 0.1: 269.0, 0.5: 431.0, 0.9: 618.0, 0.95: 640.0, 0.99: 822.0}\n",
      "8370 > 7942 > 4767\n",
      "{0.01: 217.0, 0.05: 241.3, 0.1: 274.0, 0.5: 428.0, 0.9: 600.4000000000005, 0.95: 620.0, 0.99: 641.0}\n",
      "f: 188 g: 1135 s: 3016\n"
     ]
    },
    {
     "data": {
      "image/png": "[encoded data removed]",
      "text/plain": [
       "<Figure size 432x288 with 1 Axes>"
      ]
     },
     "metadata": {
      "needs_background": "light"
     },
     "output_type": "display_data"
    }
   ],
   "source": [
    "marker = 'trnH-psbA'\n",
    "bold_marker=bold_df[bold_df.markercode==marker]\n",
    "print('f:',bold_marker.family.nunique(),'g:',bold_marker.genus.nunique(),'s:',bold_marker.sci_name.nunique())\n",
    "print(bold_marker.Len.quantile([0.01, 0.05, .1, .5, 0.9, 0.95, 0.99]).to_dict())\n",
    "bold_marker.Len.hist(bins=50);\n",
    "print(bold_marker.shape[0],end=' > ')\n",
    "bold_marker = bold_marker[(bold_marker.Len>=200) & (bold_marker.Len<=650)]\n",
    "print(bold_marker.shape[0],end=' > ')\n",
    "bold_marker = bold_marker.sort_values('family').groupby('sci_name').head(2)\n",
    "print(bold_marker.shape[0])\n",
    "print(bold_marker.Len.quantile([0.01, 0.05, .1, .5, 0.9, 0.95, 0.99]).to_dict())\n",
    "writefasta(bold_marker,marker)\n",
    "bold_marker[['Locus','Len',\n",
    "          'sci_name', 'kew_id','family', 'genus', 'species', 'infraspecies', 'Duplicates',\n",
    "          'Ini_sci_name']].to_csv('BOLD_' + marker + '_TAXO.csv',index=False)\n",
    "print('f:',bold_marker.family.nunique(),'g:',bold_marker.genus.nunique(),'s:',bold_marker.sci_name.nunique())"
   ]
  }
 ],
 "metadata": {
  "kernelspec": {
   "display_name": "Python 3",
   "language": "python",
   "name": "python3"
  },
  "language_info": {
   "codemirror_mode": {
    "name": "ipython",
    "version": 3
   },
   "file_extension": ".py",
   "mimetype": "text/x-python",
   "name": "python",
   "nbconvert_exporter": "python",
   "pygments_lexer": "ipython3",
   "version": "3.7.9"
  }
 },
 "nbformat": 4,
 "nbformat_minor": 4
}
